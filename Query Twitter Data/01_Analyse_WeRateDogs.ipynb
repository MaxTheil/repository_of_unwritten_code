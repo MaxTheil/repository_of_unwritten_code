{
 "cells": [
  {
   "cell_type": "markdown",
   "metadata": {},
   "source": [
    "## WeRateDogs - Query Twitter Data\n",
    "<ul>\n",
    "<li><a href=\"#intro\">I. - Introduction</a></li>\n",
    "<li><a href=\"#gathering\">II. - Data Gathering</a></li>\n",
    "<li><a href=\"#wrangling\">III. - Data Wrangling</a></li>\n",
    "<li><a href=\"#eda\">IV. - Explanatory Analysis</a></li>\n",
    "<li><a href=\"#conclusions\">V. - Conclusions</a></li>\n",
    "<li><a href=\"#references\">VI. - References</a></li>\n",
    "<li><a href=\"#appendix\">VII. - Appendix</a></li>\n",
    "</ul>"
   ]
  },
  {
   "cell_type": "markdown",
   "metadata": {},
   "source": [
    "<a id='intro'></a>\n",
    "## I. - Introduction\n",
    "\n",
    "During the course of my Udacity \"Data Analyst\" Nanodegree I analysed Tweets from [WeRateDogs®](https://twitter.com/dog_rates?lang=eng). WeRateDogs® shows off dog picutes in all variations and consider itself as the only source for professional dog ratings. As of March 2020, over 8,7 Mio. twitter accounts follow the supplier of cute doggo pictures.\n",
    "\n",
    "This report aims to answer simple and important questions of online marketing: \n",
    "##### 1. When is the best time for a tweet?\n",
    "To be precise, we want to analyze if tweets tweeted during the weekend are more popular than tweets during workdays. The same analysis will be done for hours. Since \"popularity\" is barely quantifiable # of retweets and # of favorites is used instead.\n",
    "##### 3. What is the best medium for a tweet?\n",
    "Is there a diffrence between tweeting via smartphone compared to tweeting via pc? Should a good tweet contain or quote or s it better to tweet replies?"
   ]
  },
  {
   "cell_type": "markdown",
   "metadata": {},
   "source": [
    "<a id='gathering'></a>\n",
    "## II. - Data Gathering\n",
    "\n",
    "##### II. A.) Importing Packages\n",
    "The most important packages were imported including Pandas, Numpy and Matplotlib. In addition, the packages Tweepy, Requests and JSON are needed to query data from twitter. Datetime, Random and Image are optional for the project itself."
   ]
  },
  {
   "cell_type": "code",
   "execution_count": 380,
   "metadata": {},
   "outputs": [],
   "source": [
    "from IPython.display import Image\n",
    "\n",
    "import pandas as pd\n",
    "import numpy as np\n",
    "import matplotlib.pyplot as plt\n",
    "\n",
    "import datetime\n",
    "import random\n",
    "\n",
    "import tweepy\n",
    "import requests\n",
    "import json"
   ]
  },
  {
   "cell_type": "markdown",
   "metadata": {},
   "source": [
    "##### II. B.) Loading and Inspecting CSV Data\n",
    "Afterwards, the CSV was loaded into the notebook and I had a first look at the data."
   ]
  },
  {
   "cell_type": "code",
   "execution_count": 2,
   "metadata": {},
   "outputs": [],
   "source": [
    "df = pd.read_csv('twitter-archive-enhanced.csv', index_col=['tweet_id'], parse_dates=['timestamp','retweeted_status_timestamp'])"
   ]
  },
  {
   "cell_type": "code",
   "execution_count": 3,
   "metadata": {
    "scrolled": false
   },
   "outputs": [
    {
     "data": {
      "text/html": [
       "<div>\n",
       "<style scoped>\n",
       "    .dataframe tbody tr th:only-of-type {\n",
       "        vertical-align: middle;\n",
       "    }\n",
       "\n",
       "    .dataframe tbody tr th {\n",
       "        vertical-align: top;\n",
       "    }\n",
       "\n",
       "    .dataframe thead th {\n",
       "        text-align: right;\n",
       "    }\n",
       "</style>\n",
       "<table border=\"1\" class=\"dataframe\">\n",
       "  <thead>\n",
       "    <tr style=\"text-align: right;\">\n",
       "      <th></th>\n",
       "      <th>in_reply_to_status_id</th>\n",
       "      <th>in_reply_to_user_id</th>\n",
       "      <th>timestamp</th>\n",
       "      <th>source</th>\n",
       "      <th>text</th>\n",
       "      <th>retweeted_status_id</th>\n",
       "      <th>retweeted_status_user_id</th>\n",
       "      <th>retweeted_status_timestamp</th>\n",
       "      <th>expanded_urls</th>\n",
       "      <th>rating_numerator</th>\n",
       "      <th>rating_denominator</th>\n",
       "      <th>name</th>\n",
       "      <th>doggo</th>\n",
       "      <th>floofer</th>\n",
       "      <th>pupper</th>\n",
       "      <th>puppo</th>\n",
       "    </tr>\n",
       "    <tr>\n",
       "      <th>tweet_id</th>\n",
       "      <th></th>\n",
       "      <th></th>\n",
       "      <th></th>\n",
       "      <th></th>\n",
       "      <th></th>\n",
       "      <th></th>\n",
       "      <th></th>\n",
       "      <th></th>\n",
       "      <th></th>\n",
       "      <th></th>\n",
       "      <th></th>\n",
       "      <th></th>\n",
       "      <th></th>\n",
       "      <th></th>\n",
       "      <th></th>\n",
       "      <th></th>\n",
       "    </tr>\n",
       "  </thead>\n",
       "  <tbody>\n",
       "    <tr>\n",
       "      <th>892420643555336193</th>\n",
       "      <td>NaN</td>\n",
       "      <td>NaN</td>\n",
       "      <td>2017-08-01 16:23:56+00:00</td>\n",
       "      <td>&lt;a href=\"http://twitter.com/download/iphone\" r...</td>\n",
       "      <td>This is Phineas. He's a mystical boy. Only eve...</td>\n",
       "      <td>NaN</td>\n",
       "      <td>NaN</td>\n",
       "      <td>NaT</td>\n",
       "      <td>https://twitter.com/dog_rates/status/892420643...</td>\n",
       "      <td>13</td>\n",
       "      <td>10</td>\n",
       "      <td>Phineas</td>\n",
       "      <td>None</td>\n",
       "      <td>None</td>\n",
       "      <td>None</td>\n",
       "      <td>None</td>\n",
       "    </tr>\n",
       "    <tr>\n",
       "      <th>892177421306343426</th>\n",
       "      <td>NaN</td>\n",
       "      <td>NaN</td>\n",
       "      <td>2017-08-01 00:17:27+00:00</td>\n",
       "      <td>&lt;a href=\"http://twitter.com/download/iphone\" r...</td>\n",
       "      <td>This is Tilly. She's just checking pup on you....</td>\n",
       "      <td>NaN</td>\n",
       "      <td>NaN</td>\n",
       "      <td>NaT</td>\n",
       "      <td>https://twitter.com/dog_rates/status/892177421...</td>\n",
       "      <td>13</td>\n",
       "      <td>10</td>\n",
       "      <td>Tilly</td>\n",
       "      <td>None</td>\n",
       "      <td>None</td>\n",
       "      <td>None</td>\n",
       "      <td>None</td>\n",
       "    </tr>\n",
       "    <tr>\n",
       "      <th>891815181378084864</th>\n",
       "      <td>NaN</td>\n",
       "      <td>NaN</td>\n",
       "      <td>2017-07-31 00:18:03+00:00</td>\n",
       "      <td>&lt;a href=\"http://twitter.com/download/iphone\" r...</td>\n",
       "      <td>This is Archie. He is a rare Norwegian Pouncin...</td>\n",
       "      <td>NaN</td>\n",
       "      <td>NaN</td>\n",
       "      <td>NaT</td>\n",
       "      <td>https://twitter.com/dog_rates/status/891815181...</td>\n",
       "      <td>12</td>\n",
       "      <td>10</td>\n",
       "      <td>Archie</td>\n",
       "      <td>None</td>\n",
       "      <td>None</td>\n",
       "      <td>None</td>\n",
       "      <td>None</td>\n",
       "    </tr>\n",
       "    <tr>\n",
       "      <th>891689557279858688</th>\n",
       "      <td>NaN</td>\n",
       "      <td>NaN</td>\n",
       "      <td>2017-07-30 15:58:51+00:00</td>\n",
       "      <td>&lt;a href=\"http://twitter.com/download/iphone\" r...</td>\n",
       "      <td>This is Darla. She commenced a snooze mid meal...</td>\n",
       "      <td>NaN</td>\n",
       "      <td>NaN</td>\n",
       "      <td>NaT</td>\n",
       "      <td>https://twitter.com/dog_rates/status/891689557...</td>\n",
       "      <td>13</td>\n",
       "      <td>10</td>\n",
       "      <td>Darla</td>\n",
       "      <td>None</td>\n",
       "      <td>None</td>\n",
       "      <td>None</td>\n",
       "      <td>None</td>\n",
       "    </tr>\n",
       "    <tr>\n",
       "      <th>891327558926688256</th>\n",
       "      <td>NaN</td>\n",
       "      <td>NaN</td>\n",
       "      <td>2017-07-29 16:00:24+00:00</td>\n",
       "      <td>&lt;a href=\"http://twitter.com/download/iphone\" r...</td>\n",
       "      <td>This is Franklin. He would like you to stop ca...</td>\n",
       "      <td>NaN</td>\n",
       "      <td>NaN</td>\n",
       "      <td>NaT</td>\n",
       "      <td>https://twitter.com/dog_rates/status/891327558...</td>\n",
       "      <td>12</td>\n",
       "      <td>10</td>\n",
       "      <td>Franklin</td>\n",
       "      <td>None</td>\n",
       "      <td>None</td>\n",
       "      <td>None</td>\n",
       "      <td>None</td>\n",
       "    </tr>\n",
       "  </tbody>\n",
       "</table>\n",
       "</div>"
      ],
      "text/plain": [
       "                    in_reply_to_status_id  in_reply_to_user_id  \\\n",
       "tweet_id                                                         \n",
       "892420643555336193                    NaN                  NaN   \n",
       "892177421306343426                    NaN                  NaN   \n",
       "891815181378084864                    NaN                  NaN   \n",
       "891689557279858688                    NaN                  NaN   \n",
       "891327558926688256                    NaN                  NaN   \n",
       "\n",
       "                                   timestamp  \\\n",
       "tweet_id                                       \n",
       "892420643555336193 2017-08-01 16:23:56+00:00   \n",
       "892177421306343426 2017-08-01 00:17:27+00:00   \n",
       "891815181378084864 2017-07-31 00:18:03+00:00   \n",
       "891689557279858688 2017-07-30 15:58:51+00:00   \n",
       "891327558926688256 2017-07-29 16:00:24+00:00   \n",
       "\n",
       "                                                               source  \\\n",
       "tweet_id                                                                \n",
       "892420643555336193  <a href=\"http://twitter.com/download/iphone\" r...   \n",
       "892177421306343426  <a href=\"http://twitter.com/download/iphone\" r...   \n",
       "891815181378084864  <a href=\"http://twitter.com/download/iphone\" r...   \n",
       "891689557279858688  <a href=\"http://twitter.com/download/iphone\" r...   \n",
       "891327558926688256  <a href=\"http://twitter.com/download/iphone\" r...   \n",
       "\n",
       "                                                                 text  \\\n",
       "tweet_id                                                                \n",
       "892420643555336193  This is Phineas. He's a mystical boy. Only eve...   \n",
       "892177421306343426  This is Tilly. She's just checking pup on you....   \n",
       "891815181378084864  This is Archie. He is a rare Norwegian Pouncin...   \n",
       "891689557279858688  This is Darla. She commenced a snooze mid meal...   \n",
       "891327558926688256  This is Franklin. He would like you to stop ca...   \n",
       "\n",
       "                    retweeted_status_id  retweeted_status_user_id  \\\n",
       "tweet_id                                                            \n",
       "892420643555336193                  NaN                       NaN   \n",
       "892177421306343426                  NaN                       NaN   \n",
       "891815181378084864                  NaN                       NaN   \n",
       "891689557279858688                  NaN                       NaN   \n",
       "891327558926688256                  NaN                       NaN   \n",
       "\n",
       "                   retweeted_status_timestamp  \\\n",
       "tweet_id                                        \n",
       "892420643555336193                        NaT   \n",
       "892177421306343426                        NaT   \n",
       "891815181378084864                        NaT   \n",
       "891689557279858688                        NaT   \n",
       "891327558926688256                        NaT   \n",
       "\n",
       "                                                        expanded_urls  \\\n",
       "tweet_id                                                                \n",
       "892420643555336193  https://twitter.com/dog_rates/status/892420643...   \n",
       "892177421306343426  https://twitter.com/dog_rates/status/892177421...   \n",
       "891815181378084864  https://twitter.com/dog_rates/status/891815181...   \n",
       "891689557279858688  https://twitter.com/dog_rates/status/891689557...   \n",
       "891327558926688256  https://twitter.com/dog_rates/status/891327558...   \n",
       "\n",
       "                    rating_numerator  rating_denominator      name doggo  \\\n",
       "tweet_id                                                                   \n",
       "892420643555336193                13                  10   Phineas  None   \n",
       "892177421306343426                13                  10     Tilly  None   \n",
       "891815181378084864                12                  10    Archie  None   \n",
       "891689557279858688                13                  10     Darla  None   \n",
       "891327558926688256                12                  10  Franklin  None   \n",
       "\n",
       "                   floofer pupper puppo  \n",
       "tweet_id                                 \n",
       "892420643555336193    None   None  None  \n",
       "892177421306343426    None   None  None  \n",
       "891815181378084864    None   None  None  \n",
       "891689557279858688    None   None  None  \n",
       "891327558926688256    None   None  None  "
      ]
     },
     "execution_count": 3,
     "metadata": {},
     "output_type": "execute_result"
    }
   ],
   "source": [
    "df.head()"
   ]
  },
  {
   "cell_type": "markdown",
   "metadata": {},
   "source": [
    "Some column names aren't intuitive. Hence, we check their meanings according to the [data dictionary](https://developer.twitter.com/en/docs/tweets/data-dictionary/overview/tweet-object).\n",
    "\n",
    "The key takeaways are:\n",
    "\n",
    "- in_reply_to_status_id and in_reply_to_user_id are filled when the twee was a reply to another tweet.\n",
    "- retweeted_status_id, retweeted_status_user_id and retweeted_status_timestamp represents the original tweet data in case of a retweet.\n",
    "- doggo, floofer, pupper and puppo dont exist in the original tweet object. However, doggo is slang-term for dog. Similarly, pupper and puppo are slang-terms for puppies and floofers are very very old dogs."
   ]
  },
  {
   "cell_type": "code",
   "execution_count": 4,
   "metadata": {},
   "outputs": [
    {
     "name": "stdout",
     "output_type": "stream",
     "text": [
      "<class 'pandas.core.frame.DataFrame'>\n",
      "Int64Index: 2356 entries, 892420643555336193 to 666020888022790149\n",
      "Data columns (total 16 columns):\n",
      " #   Column                      Non-Null Count  Dtype              \n",
      "---  ------                      --------------  -----              \n",
      " 0   in_reply_to_status_id       78 non-null     float64            \n",
      " 1   in_reply_to_user_id         78 non-null     float64            \n",
      " 2   timestamp                   2356 non-null   datetime64[ns, UTC]\n",
      " 3   source                      2356 non-null   object             \n",
      " 4   text                        2356 non-null   object             \n",
      " 5   retweeted_status_id         181 non-null    float64            \n",
      " 6   retweeted_status_user_id    181 non-null    float64            \n",
      " 7   retweeted_status_timestamp  181 non-null    datetime64[ns, UTC]\n",
      " 8   expanded_urls               2297 non-null   object             \n",
      " 9   rating_numerator            2356 non-null   int64              \n",
      " 10  rating_denominator          2356 non-null   int64              \n",
      " 11  name                        2356 non-null   object             \n",
      " 12  doggo                       2356 non-null   object             \n",
      " 13  floofer                     2356 non-null   object             \n",
      " 14  pupper                      2356 non-null   object             \n",
      " 15  puppo                       2356 non-null   object             \n",
      "dtypes: datetime64[ns, UTC](2), float64(4), int64(2), object(8)\n",
      "memory usage: 312.9+ KB\n"
     ]
    }
   ],
   "source": [
    "df.info()"
   ]
  },
  {
   "cell_type": "markdown",
   "metadata": {},
   "source": [
    "As can be seen, in_reply_to_status_id and in_reply_to_user_id contain mostly missings. However, this makes sence, since WeRateDogs® tweets new picutres instead of replies. The same is true for retweeted_status_id, retweeted_status_user_id, retweeted_status_timestamp. In addition to that, there are some missing URLS's."
   ]
  },
  {
   "cell_type": "code",
   "execution_count": 5,
   "metadata": {},
   "outputs": [
    {
     "data": {
      "text/html": [
       "<div>\n",
       "<style scoped>\n",
       "    .dataframe tbody tr th:only-of-type {\n",
       "        vertical-align: middle;\n",
       "    }\n",
       "\n",
       "    .dataframe tbody tr th {\n",
       "        vertical-align: top;\n",
       "    }\n",
       "\n",
       "    .dataframe thead th {\n",
       "        text-align: right;\n",
       "    }\n",
       "</style>\n",
       "<table border=\"1\" class=\"dataframe\">\n",
       "  <thead>\n",
       "    <tr style=\"text-align: right;\">\n",
       "      <th></th>\n",
       "      <th>in_reply_to_status_id</th>\n",
       "      <th>in_reply_to_user_id</th>\n",
       "      <th>timestamp</th>\n",
       "      <th>source</th>\n",
       "      <th>text</th>\n",
       "      <th>retweeted_status_id</th>\n",
       "      <th>retweeted_status_user_id</th>\n",
       "      <th>retweeted_status_timestamp</th>\n",
       "      <th>expanded_urls</th>\n",
       "      <th>rating_numerator</th>\n",
       "      <th>rating_denominator</th>\n",
       "      <th>name</th>\n",
       "      <th>doggo</th>\n",
       "      <th>floofer</th>\n",
       "      <th>pupper</th>\n",
       "      <th>puppo</th>\n",
       "    </tr>\n",
       "    <tr>\n",
       "      <th>tweet_id</th>\n",
       "      <th></th>\n",
       "      <th></th>\n",
       "      <th></th>\n",
       "      <th></th>\n",
       "      <th></th>\n",
       "      <th></th>\n",
       "      <th></th>\n",
       "      <th></th>\n",
       "      <th></th>\n",
       "      <th></th>\n",
       "      <th></th>\n",
       "      <th></th>\n",
       "      <th></th>\n",
       "      <th></th>\n",
       "      <th></th>\n",
       "      <th></th>\n",
       "    </tr>\n",
       "  </thead>\n",
       "  <tbody>\n",
       "    <tr>\n",
       "      <th>828361771580813312</th>\n",
       "      <td>NaN</td>\n",
       "      <td>NaN</td>\n",
       "      <td>2017-02-05 21:56:51+00:00</td>\n",
       "      <td>&lt;a href=\"http://twitter.com\" rel=\"nofollow\"&gt;Tw...</td>\n",
       "      <td>Beebop and Doobert should start a band 12/10 w...</td>\n",
       "      <td>NaN</td>\n",
       "      <td>NaN</td>\n",
       "      <td>NaT</td>\n",
       "      <td>NaN</td>\n",
       "      <td>12</td>\n",
       "      <td>10</td>\n",
       "      <td>None</td>\n",
       "      <td>None</td>\n",
       "      <td>None</td>\n",
       "      <td>None</td>\n",
       "      <td>None</td>\n",
       "    </tr>\n",
       "    <tr>\n",
       "      <th>785515384317313025</th>\n",
       "      <td>NaN</td>\n",
       "      <td>NaN</td>\n",
       "      <td>2016-10-10 16:20:36+00:00</td>\n",
       "      <td>&lt;a href=\"http://twitter.com/download/iphone\" r...</td>\n",
       "      <td>Today, 10/10, should be National Dog Rates Day</td>\n",
       "      <td>NaN</td>\n",
       "      <td>NaN</td>\n",
       "      <td>NaT</td>\n",
       "      <td>NaN</td>\n",
       "      <td>10</td>\n",
       "      <td>10</td>\n",
       "      <td>None</td>\n",
       "      <td>None</td>\n",
       "      <td>None</td>\n",
       "      <td>None</td>\n",
       "      <td>None</td>\n",
       "    </tr>\n",
       "    <tr>\n",
       "      <th>696518437233913856</th>\n",
       "      <td>NaN</td>\n",
       "      <td>NaN</td>\n",
       "      <td>2016-02-08 02:18:30+00:00</td>\n",
       "      <td>&lt;a href=\"http://twitter.com/download/iphone\" r...</td>\n",
       "      <td>Oh my god 10/10 for every little hot dog pupper</td>\n",
       "      <td>NaN</td>\n",
       "      <td>NaN</td>\n",
       "      <td>NaT</td>\n",
       "      <td>NaN</td>\n",
       "      <td>10</td>\n",
       "      <td>10</td>\n",
       "      <td>None</td>\n",
       "      <td>None</td>\n",
       "      <td>None</td>\n",
       "      <td>pupper</td>\n",
       "      <td>None</td>\n",
       "    </tr>\n",
       "  </tbody>\n",
       "</table>\n",
       "</div>"
      ],
      "text/plain": [
       "                    in_reply_to_status_id  in_reply_to_user_id  \\\n",
       "tweet_id                                                         \n",
       "828361771580813312                    NaN                  NaN   \n",
       "785515384317313025                    NaN                  NaN   \n",
       "696518437233913856                    NaN                  NaN   \n",
       "\n",
       "                                   timestamp  \\\n",
       "tweet_id                                       \n",
       "828361771580813312 2017-02-05 21:56:51+00:00   \n",
       "785515384317313025 2016-10-10 16:20:36+00:00   \n",
       "696518437233913856 2016-02-08 02:18:30+00:00   \n",
       "\n",
       "                                                               source  \\\n",
       "tweet_id                                                                \n",
       "828361771580813312  <a href=\"http://twitter.com\" rel=\"nofollow\">Tw...   \n",
       "785515384317313025  <a href=\"http://twitter.com/download/iphone\" r...   \n",
       "696518437233913856  <a href=\"http://twitter.com/download/iphone\" r...   \n",
       "\n",
       "                                                                 text  \\\n",
       "tweet_id                                                                \n",
       "828361771580813312  Beebop and Doobert should start a band 12/10 w...   \n",
       "785515384317313025     Today, 10/10, should be National Dog Rates Day   \n",
       "696518437233913856    Oh my god 10/10 for every little hot dog pupper   \n",
       "\n",
       "                    retweeted_status_id  retweeted_status_user_id  \\\n",
       "tweet_id                                                            \n",
       "828361771580813312                  NaN                       NaN   \n",
       "785515384317313025                  NaN                       NaN   \n",
       "696518437233913856                  NaN                       NaN   \n",
       "\n",
       "                   retweeted_status_timestamp expanded_urls  rating_numerator  \\\n",
       "tweet_id                                                                        \n",
       "828361771580813312                        NaT           NaN                12   \n",
       "785515384317313025                        NaT           NaN                10   \n",
       "696518437233913856                        NaT           NaN                10   \n",
       "\n",
       "                    rating_denominator  name doggo floofer  pupper puppo  \n",
       "tweet_id                                                                  \n",
       "828361771580813312                  10  None  None    None    None  None  \n",
       "785515384317313025                  10  None  None    None    None  None  \n",
       "696518437233913856                  10  None  None    None  pupper  None  "
      ]
     },
     "execution_count": 5,
     "metadata": {},
     "output_type": "execute_result"
    }
   ],
   "source": [
    "df[df['expanded_urls'].isna()]\n",
    "df[(df['expanded_urls'].isna())&(df['in_reply_to_status_id'].isna())]\n",
    "df[(df['expanded_urls'].isna())&(df['in_reply_to_status_id'].isna())&(df['retweeted_status_id'].isna())]"
   ]
  },
  {
   "cell_type": "markdown",
   "metadata": {},
   "source": [
    "A quick check revealed, that missing URLs are mostly replies or retweets. In the end, only 3 tweets have a missing URL and are neither replies or retweets.\n",
    "\n",
    "Lets continue with the columns doggo, floofer, pupper and puppo."
   ]
  },
  {
   "cell_type": "code",
   "execution_count": 6,
   "metadata": {},
   "outputs": [
    {
     "name": "stdout",
     "output_type": "stream",
     "text": [
      "Doggo: 0\n",
      "Floofer: 0\n",
      "Pupper: 0\n",
      "Puppo: 0\n"
     ]
    }
   ],
   "source": [
    "columns = ['doggo','floofer','pupper','puppo']\n",
    "\n",
    "for x in columns:\n",
    "    print(str(x.capitalize())+': '+str(len(df[(df[x] != 'None')&(df[x] != str(x))])))"
   ]
  },
  {
   "cell_type": "markdown",
   "metadata": {},
   "source": [
    "These columns are not mentioned in the tweet object data dictionary, hence values were checked. Surprisingly, these columns are filled with \"None\" or the respective column name, which seems odd given our current knowledge of the data.\n",
    "\n",
    "##### II. C.) Query Twitter Data\n",
    "\n",
    "In the next steps, twitter API was used to gather additional information about each of the given tweets. Therefore Tweepy was used to gather tweet data and write each tweets data into a JSON-file. The correct tweets are identified by their respective tweet id."
   ]
  },
  {
   "cell_type": "code",
   "execution_count": 7,
   "metadata": {},
   "outputs": [
    {
     "name": "stdout",
     "output_type": "stream",
     "text": [
      "Object `tw.API` not found.\n"
     ]
    }
   ],
   "source": [
    "?tw.API"
   ]
  },
  {
   "cell_type": "code",
   "execution_count": 8,
   "metadata": {},
   "outputs": [
    {
     "name": "stdout",
     "output_type": "stream",
     "text": [
      "Authentication successful\n"
     ]
    }
   ],
   "source": [
    "access_token = 'qqq'\n",
    "access_secret = 'qqq'\n",
    "account_key = 'qqq'\n",
    "account_secret = 'qqq'\n",
    "\n",
    "auth = tweepy.OAuthHandler(account_key, account_secret)\n",
    "auth.set_access_token(access_token, access_secret)\n",
    "\n",
    "api = tweepy.API(auth, wait_on_rate_limit=True, wait_on_rate_limit_notify=True)\n",
    "\n",
    "try:\n",
    "    api.verify_credentials()\n",
    "    print(\"Authentication successful\")\n",
    "except:\n",
    "    print(\"Authentication error\")"
   ]
  },
  {
   "cell_type": "code",
   "execution_count": 9,
   "metadata": {},
   "outputs": [],
   "source": [
    "id_list = list(df.index)"
   ]
  },
  {
   "cell_type": "code",
   "execution_count": 10,
   "metadata": {},
   "outputs": [],
   "source": [
    "?api.get_status"
   ]
  },
  {
   "cell_type": "markdown",
   "metadata": {},
   "source": [
    "In the next code cell, tweet data is gathered by Tweepy. In case of an error, the respective tweet id and the error message is written into an CSV. In addition, datetime package was used to measure runtime of the code cell."
   ]
  },
  {
   "cell_type": "code",
   "execution_count": 11,
   "metadata": {
    "scrolled": false
   },
   "outputs": [
    {
     "name": "stdout",
     "output_type": "stream",
     "text": [
      "Unable to query: 888202515573088257\n",
      "Unable to query: 873697596434513921\n",
      "Unable to query: 872668790621863937\n",
      "Unable to query: 872261713294495745\n",
      "Unable to query: 869988702071779329\n",
      "Unable to query: 866816280283807744\n",
      "Unable to query: 861769973181624320\n",
      "Unable to query: 856602993587888130\n",
      "Unable to query: 851953902622658560\n",
      "Unable to query: 845459076796616705\n",
      "Unable to query: 844704788403113984\n",
      "Unable to query: 842892208864923648\n",
      "Unable to query: 837366284874571778\n",
      "Unable to query: 837012587749474308\n",
      "Unable to query: 829374341691346946\n",
      "Unable to query: 827228250799742977\n",
      "Unable to query: 812747805718642688\n",
      "Unable to query: 802247111496568832\n",
      "Unable to query: 779123168116150273\n",
      "Unable to query: 775096608509886464\n",
      "Unable to query: 771004394259247104\n",
      "Unable to query: 770743923962707968\n",
      "Unable to query: 759566828574212096\n"
     ]
    },
    {
     "name": "stderr",
     "output_type": "stream",
     "text": [
      "Rate limit reached. Sleeping for: 349\n"
     ]
    },
    {
     "name": "stdout",
     "output_type": "stream",
     "text": [
      "Unable to query: 754011816964026368\n",
      "Unable to query: 680055455951884288\n"
     ]
    },
    {
     "name": "stderr",
     "output_type": "stream",
     "text": [
      "Rate limit reached. Sleeping for: 340\n"
     ]
    },
    {
     "name": "stdout",
     "output_type": "stream",
     "text": [
      "Summary: 25 Missing Tweets (0.01%)\n",
      "Duration: 0:35:53.506706\n"
     ]
    }
   ],
   "source": [
    "start_date = datetime.datetime.today()\n",
    "\n",
    "tweet_data = []\n",
    "tweep_errors = []\n",
    "\n",
    "for x in id_list:    \n",
    "    try:\n",
    "        tweet_data.append(api.get_status(x, tweet_mode='extended')._json)\n",
    "    except tweepy.TweepError as error:\n",
    "        print('Unable to query:', str(x))\n",
    "        tweep_errors.append({'id':x, 'error':error})\n",
    "        \n",
    "print('Summary: '+str(len(tweep_errors))+' Missing Tweets ('+str(round(len(tweep_errors)/len(tweet_data),2))+'%)')\n",
    "\n",
    "with open('tweet_json.txt', 'w') as x:\n",
    "    json.dump(tweet_data, x)\n",
    "    \n",
    "pd.DataFrame(tweep_errors).to_csv('tweet_errors.csv', index=False)\n",
    "    \n",
    "print(str('Duration: '+str(datetime.datetime.today() - start_date)))"
   ]
  },
  {
   "cell_type": "markdown",
   "metadata": {},
   "source": [
    "Since tweet data as well as error data is written into seperate files, there is no need to run this code cell more than once. In the next steps we simply import these files.\n",
    "\n",
    "Unfortunately, here are 25 tweets missing, which needs further investigation."
   ]
  },
  {
   "cell_type": "code",
   "execution_count": 280,
   "metadata": {},
   "outputs": [
    {
     "data": {
      "text/html": [
       "<div>\n",
       "<style scoped>\n",
       "    .dataframe tbody tr th:only-of-type {\n",
       "        vertical-align: middle;\n",
       "    }\n",
       "\n",
       "    .dataframe tbody tr th {\n",
       "        vertical-align: top;\n",
       "    }\n",
       "\n",
       "    .dataframe thead th {\n",
       "        text-align: right;\n",
       "    }\n",
       "</style>\n",
       "<table border=\"1\" class=\"dataframe\">\n",
       "  <thead>\n",
       "    <tr style=\"text-align: right;\">\n",
       "      <th></th>\n",
       "      <th>id</th>\n",
       "      <th>error</th>\n",
       "    </tr>\n",
       "  </thead>\n",
       "  <tbody>\n",
       "    <tr>\n",
       "      <th>0</th>\n",
       "      <td>888202515573088257</td>\n",
       "      <td>[{'code': 144, 'message': 'No status found wit...</td>\n",
       "    </tr>\n",
       "    <tr>\n",
       "      <th>1</th>\n",
       "      <td>873697596434513921</td>\n",
       "      <td>[{'code': 144, 'message': 'No status found wit...</td>\n",
       "    </tr>\n",
       "    <tr>\n",
       "      <th>2</th>\n",
       "      <td>872668790621863937</td>\n",
       "      <td>[{'code': 144, 'message': 'No status found wit...</td>\n",
       "    </tr>\n",
       "    <tr>\n",
       "      <th>3</th>\n",
       "      <td>872261713294495745</td>\n",
       "      <td>[{'code': 144, 'message': 'No status found wit...</td>\n",
       "    </tr>\n",
       "    <tr>\n",
       "      <th>4</th>\n",
       "      <td>869988702071779329</td>\n",
       "      <td>[{'code': 144, 'message': 'No status found wit...</td>\n",
       "    </tr>\n",
       "    <tr>\n",
       "      <th>5</th>\n",
       "      <td>866816280283807744</td>\n",
       "      <td>[{'code': 144, 'message': 'No status found wit...</td>\n",
       "    </tr>\n",
       "    <tr>\n",
       "      <th>6</th>\n",
       "      <td>861769973181624320</td>\n",
       "      <td>[{'code': 144, 'message': 'No status found wit...</td>\n",
       "    </tr>\n",
       "    <tr>\n",
       "      <th>7</th>\n",
       "      <td>856602993587888130</td>\n",
       "      <td>[{'code': 144, 'message': 'No status found wit...</td>\n",
       "    </tr>\n",
       "    <tr>\n",
       "      <th>8</th>\n",
       "      <td>851953902622658560</td>\n",
       "      <td>[{'code': 144, 'message': 'No status found wit...</td>\n",
       "    </tr>\n",
       "    <tr>\n",
       "      <th>9</th>\n",
       "      <td>845459076796616705</td>\n",
       "      <td>[{'code': 144, 'message': 'No status found wit...</td>\n",
       "    </tr>\n",
       "    <tr>\n",
       "      <th>10</th>\n",
       "      <td>844704788403113984</td>\n",
       "      <td>[{'code': 144, 'message': 'No status found wit...</td>\n",
       "    </tr>\n",
       "    <tr>\n",
       "      <th>11</th>\n",
       "      <td>842892208864923648</td>\n",
       "      <td>[{'code': 144, 'message': 'No status found wit...</td>\n",
       "    </tr>\n",
       "    <tr>\n",
       "      <th>12</th>\n",
       "      <td>837366284874571778</td>\n",
       "      <td>[{'code': 144, 'message': 'No status found wit...</td>\n",
       "    </tr>\n",
       "    <tr>\n",
       "      <th>13</th>\n",
       "      <td>837012587749474308</td>\n",
       "      <td>[{'code': 144, 'message': 'No status found wit...</td>\n",
       "    </tr>\n",
       "    <tr>\n",
       "      <th>14</th>\n",
       "      <td>829374341691346946</td>\n",
       "      <td>[{'code': 144, 'message': 'No status found wit...</td>\n",
       "    </tr>\n",
       "    <tr>\n",
       "      <th>15</th>\n",
       "      <td>827228250799742977</td>\n",
       "      <td>[{'code': 144, 'message': 'No status found wit...</td>\n",
       "    </tr>\n",
       "    <tr>\n",
       "      <th>16</th>\n",
       "      <td>812747805718642688</td>\n",
       "      <td>[{'code': 144, 'message': 'No status found wit...</td>\n",
       "    </tr>\n",
       "    <tr>\n",
       "      <th>17</th>\n",
       "      <td>802247111496568832</td>\n",
       "      <td>[{'code': 144, 'message': 'No status found wit...</td>\n",
       "    </tr>\n",
       "    <tr>\n",
       "      <th>18</th>\n",
       "      <td>779123168116150273</td>\n",
       "      <td>[{'code': 144, 'message': 'No status found wit...</td>\n",
       "    </tr>\n",
       "    <tr>\n",
       "      <th>19</th>\n",
       "      <td>775096608509886464</td>\n",
       "      <td>[{'code': 144, 'message': 'No status found wit...</td>\n",
       "    </tr>\n",
       "    <tr>\n",
       "      <th>20</th>\n",
       "      <td>771004394259247104</td>\n",
       "      <td>[{'code': 179, 'message': 'Sorry, you are not ...</td>\n",
       "    </tr>\n",
       "    <tr>\n",
       "      <th>21</th>\n",
       "      <td>770743923962707968</td>\n",
       "      <td>[{'code': 144, 'message': 'No status found wit...</td>\n",
       "    </tr>\n",
       "    <tr>\n",
       "      <th>22</th>\n",
       "      <td>759566828574212096</td>\n",
       "      <td>[{'code': 144, 'message': 'No status found wit...</td>\n",
       "    </tr>\n",
       "    <tr>\n",
       "      <th>23</th>\n",
       "      <td>754011816964026368</td>\n",
       "      <td>[{'code': 144, 'message': 'No status found wit...</td>\n",
       "    </tr>\n",
       "    <tr>\n",
       "      <th>24</th>\n",
       "      <td>680055455951884288</td>\n",
       "      <td>[{'code': 144, 'message': 'No status found wit...</td>\n",
       "    </tr>\n",
       "  </tbody>\n",
       "</table>\n",
       "</div>"
      ],
      "text/plain": [
       "                    id                                              error\n",
       "0   888202515573088257  [{'code': 144, 'message': 'No status found wit...\n",
       "1   873697596434513921  [{'code': 144, 'message': 'No status found wit...\n",
       "2   872668790621863937  [{'code': 144, 'message': 'No status found wit...\n",
       "3   872261713294495745  [{'code': 144, 'message': 'No status found wit...\n",
       "4   869988702071779329  [{'code': 144, 'message': 'No status found wit...\n",
       "5   866816280283807744  [{'code': 144, 'message': 'No status found wit...\n",
       "6   861769973181624320  [{'code': 144, 'message': 'No status found wit...\n",
       "7   856602993587888130  [{'code': 144, 'message': 'No status found wit...\n",
       "8   851953902622658560  [{'code': 144, 'message': 'No status found wit...\n",
       "9   845459076796616705  [{'code': 144, 'message': 'No status found wit...\n",
       "10  844704788403113984  [{'code': 144, 'message': 'No status found wit...\n",
       "11  842892208864923648  [{'code': 144, 'message': 'No status found wit...\n",
       "12  837366284874571778  [{'code': 144, 'message': 'No status found wit...\n",
       "13  837012587749474308  [{'code': 144, 'message': 'No status found wit...\n",
       "14  829374341691346946  [{'code': 144, 'message': 'No status found wit...\n",
       "15  827228250799742977  [{'code': 144, 'message': 'No status found wit...\n",
       "16  812747805718642688  [{'code': 144, 'message': 'No status found wit...\n",
       "17  802247111496568832  [{'code': 144, 'message': 'No status found wit...\n",
       "18  779123168116150273  [{'code': 144, 'message': 'No status found wit...\n",
       "19  775096608509886464  [{'code': 144, 'message': 'No status found wit...\n",
       "20  771004394259247104  [{'code': 179, 'message': 'Sorry, you are not ...\n",
       "21  770743923962707968  [{'code': 144, 'message': 'No status found wit...\n",
       "22  759566828574212096  [{'code': 144, 'message': 'No status found wit...\n",
       "23  754011816964026368  [{'code': 144, 'message': 'No status found wit...\n",
       "24  680055455951884288  [{'code': 144, 'message': 'No status found wit..."
      ]
     },
     "execution_count": 280,
     "metadata": {},
     "output_type": "execute_result"
    }
   ],
   "source": [
    "df_errors = pd.read_csv('tweet_errors.csv')\n",
    "df_errors"
   ]
  },
  {
   "cell_type": "markdown",
   "metadata": {},
   "source": [
    "Almost all errors occured due code 144 i.e. the tweets were deleted. Only one tweet raised an error because my account is not authorized to see the status. Overall, the number of missings is immaterial and will not bias the following analysis.\n",
    "\n",
    "Before the tweet data can be used, is was necesarry to flatten the JSON-file, since tweet objeects are stored in nested JSON-files. The respective code snipped was takes from [TowardsDataScience](https://towardsdatascience.com/how-to-flatten-deeply-nested-json-objects-in-non-recursive-elegant-python-55f96533103d)."
   ]
  },
  {
   "cell_type": "code",
   "execution_count": 13,
   "metadata": {},
   "outputs": [],
   "source": [
    "with open('tweet_json.txt', 'r') as x:\n",
    "    load_data = json.load(x)"
   ]
  },
  {
   "cell_type": "code",
   "execution_count": 14,
   "metadata": {},
   "outputs": [],
   "source": [
    "def flatten_json(x):\n",
    "    out = {}\n",
    "\n",
    "    def flatten(y, name=''):\n",
    "        if type(y) is dict:\n",
    "            for z in y:\n",
    "                flatten(y[z], name + z + '_')\n",
    "        elif type(y) is list:\n",
    "            i = 0\n",
    "            for z in y:\n",
    "                flatten(z, name + str(i) + '_')\n",
    "                i += 1\n",
    "        else:\n",
    "            out[name[:-1]] = y\n",
    "\n",
    "    flatten(x)\n",
    "    return out"
   ]
  },
  {
   "cell_type": "code",
   "execution_count": 15,
   "metadata": {},
   "outputs": [
    {
     "data": {
      "text/plain": [
       "(2331, 884)"
      ]
     },
     "execution_count": 15,
     "metadata": {},
     "output_type": "execute_result"
    }
   ],
   "source": [
    "for x in range(len(load_data)):\n",
    "    load_data[x] = flatten_json(load_data[x])\n",
    "    \n",
    "df_add = pd.DataFrame(load_data).set_index('id')\n",
    "df_add.shape"
   ]
  },
  {
   "cell_type": "markdown",
   "metadata": {},
   "source": [
    "Please note that the diffrence in rows between \"df_add\" (2331) and \"df\" (2356) is explained by the 25 missing tweets.\n",
    "\n",
    "The initial DataFrame features 884 columns - most of them are not needed to answer our questions. Hence, most of the columns were dropped. Interesting columns for this project are:\n",
    "\n",
    "- columns that can be found in our initial dataframe (for data quality checks)\n",
    "- tweet statistics e.g. retweet count\n",
    "- statistics concerning the user posting the tweets e.g. followers count\n",
    "- information about the tweeted pictures, to light up our days"
   ]
  },
  {
   "cell_type": "code",
   "execution_count": 16,
   "metadata": {},
   "outputs": [
    {
     "data": {
      "text/html": [
       "<div>\n",
       "<style scoped>\n",
       "    .dataframe tbody tr th:only-of-type {\n",
       "        vertical-align: middle;\n",
       "    }\n",
       "\n",
       "    .dataframe tbody tr th {\n",
       "        vertical-align: top;\n",
       "    }\n",
       "\n",
       "    .dataframe thead th {\n",
       "        text-align: right;\n",
       "    }\n",
       "</style>\n",
       "<table border=\"1\" class=\"dataframe\">\n",
       "  <thead>\n",
       "    <tr style=\"text-align: right;\">\n",
       "      <th></th>\n",
       "      <th>text</th>\n",
       "      <th>image_width</th>\n",
       "      <th>image_height</th>\n",
       "      <th>expanded_urls</th>\n",
       "      <th>source</th>\n",
       "      <th>in_reply_to_status_id</th>\n",
       "      <th>in_reply_to_user_id</th>\n",
       "      <th>user_followers_count</th>\n",
       "      <th>user_favourites_count</th>\n",
       "      <th>retweet_count</th>\n",
       "      <th>favorite_count</th>\n",
       "      <th>retweeted</th>\n",
       "      <th>is_quote_status</th>\n",
       "    </tr>\n",
       "    <tr>\n",
       "      <th>id</th>\n",
       "      <th></th>\n",
       "      <th></th>\n",
       "      <th></th>\n",
       "      <th></th>\n",
       "      <th></th>\n",
       "      <th></th>\n",
       "      <th></th>\n",
       "      <th></th>\n",
       "      <th></th>\n",
       "      <th></th>\n",
       "      <th></th>\n",
       "      <th></th>\n",
       "      <th></th>\n",
       "    </tr>\n",
       "  </thead>\n",
       "  <tbody>\n",
       "    <tr>\n",
       "      <th>892420643555336193</th>\n",
       "      <td>This is Phineas. He's a mystical boy. Only eve...</td>\n",
       "      <td>540.0</td>\n",
       "      <td>528.0</td>\n",
       "      <td>https://pbs.twimg.com/media/DGKD1-bXoAAIAUK.jpg</td>\n",
       "      <td>&lt;a href=\"http://twitter.com/download/iphone\" r...</td>\n",
       "      <td>NaN</td>\n",
       "      <td>NaN</td>\n",
       "      <td>8712175</td>\n",
       "      <td>144652</td>\n",
       "      <td>7774</td>\n",
       "      <td>36532</td>\n",
       "      <td>False</td>\n",
       "      <td>False</td>\n",
       "    </tr>\n",
       "    <tr>\n",
       "      <th>892177421306343426</th>\n",
       "      <td>This is Tilly. She's just checking pup on you....</td>\n",
       "      <td>1407.0</td>\n",
       "      <td>1600.0</td>\n",
       "      <td>https://pbs.twimg.com/media/DGGmoV4XsAAUL6n.jpg</td>\n",
       "      <td>&lt;a href=\"http://twitter.com/download/iphone\" r...</td>\n",
       "      <td>NaN</td>\n",
       "      <td>NaN</td>\n",
       "      <td>8712175</td>\n",
       "      <td>144652</td>\n",
       "      <td>5762</td>\n",
       "      <td>31472</td>\n",
       "      <td>False</td>\n",
       "      <td>False</td>\n",
       "    </tr>\n",
       "    <tr>\n",
       "      <th>891815181378084864</th>\n",
       "      <td>This is Archie. He is a rare Norwegian Pouncin...</td>\n",
       "      <td>1201.0</td>\n",
       "      <td>1600.0</td>\n",
       "      <td>https://pbs.twimg.com/media/DGBdLU1WsAANxJ9.jpg</td>\n",
       "      <td>&lt;a href=\"http://twitter.com/download/iphone\" r...</td>\n",
       "      <td>NaN</td>\n",
       "      <td>NaN</td>\n",
       "      <td>8712175</td>\n",
       "      <td>144652</td>\n",
       "      <td>3812</td>\n",
       "      <td>23714</td>\n",
       "      <td>False</td>\n",
       "      <td>False</td>\n",
       "    </tr>\n",
       "    <tr>\n",
       "      <th>891689557279858688</th>\n",
       "      <td>This is Darla. She commenced a snooze mid meal...</td>\n",
       "      <td>1201.0</td>\n",
       "      <td>1600.0</td>\n",
       "      <td>https://pbs.twimg.com/media/DF_q7IAWsAEuuN8.jpg</td>\n",
       "      <td>&lt;a href=\"http://twitter.com/download/iphone\" r...</td>\n",
       "      <td>NaN</td>\n",
       "      <td>NaN</td>\n",
       "      <td>8712175</td>\n",
       "      <td>144652</td>\n",
       "      <td>7943</td>\n",
       "      <td>39859</td>\n",
       "      <td>False</td>\n",
       "      <td>False</td>\n",
       "    </tr>\n",
       "    <tr>\n",
       "      <th>891327558926688256</th>\n",
       "      <td>This is Franklin. He would like you to stop ca...</td>\n",
       "      <td>720.0</td>\n",
       "      <td>540.0</td>\n",
       "      <td>https://pbs.twimg.com/media/DF6hr6AVYAAZ8G8.jpg</td>\n",
       "      <td>&lt;a href=\"http://twitter.com/download/iphone\" r...</td>\n",
       "      <td>NaN</td>\n",
       "      <td>NaN</td>\n",
       "      <td>8712175</td>\n",
       "      <td>144652</td>\n",
       "      <td>8571</td>\n",
       "      <td>38055</td>\n",
       "      <td>False</td>\n",
       "      <td>False</td>\n",
       "    </tr>\n",
       "  </tbody>\n",
       "</table>\n",
       "</div>"
      ],
      "text/plain": [
       "                                                                 text  \\\n",
       "id                                                                      \n",
       "892420643555336193  This is Phineas. He's a mystical boy. Only eve...   \n",
       "892177421306343426  This is Tilly. She's just checking pup on you....   \n",
       "891815181378084864  This is Archie. He is a rare Norwegian Pouncin...   \n",
       "891689557279858688  This is Darla. She commenced a snooze mid meal...   \n",
       "891327558926688256  This is Franklin. He would like you to stop ca...   \n",
       "\n",
       "                    image_width  image_height  \\\n",
       "id                                              \n",
       "892420643555336193        540.0         528.0   \n",
       "892177421306343426       1407.0        1600.0   \n",
       "891815181378084864       1201.0        1600.0   \n",
       "891689557279858688       1201.0        1600.0   \n",
       "891327558926688256        720.0         540.0   \n",
       "\n",
       "                                                      expanded_urls  \\\n",
       "id                                                                    \n",
       "892420643555336193  https://pbs.twimg.com/media/DGKD1-bXoAAIAUK.jpg   \n",
       "892177421306343426  https://pbs.twimg.com/media/DGGmoV4XsAAUL6n.jpg   \n",
       "891815181378084864  https://pbs.twimg.com/media/DGBdLU1WsAANxJ9.jpg   \n",
       "891689557279858688  https://pbs.twimg.com/media/DF_q7IAWsAEuuN8.jpg   \n",
       "891327558926688256  https://pbs.twimg.com/media/DF6hr6AVYAAZ8G8.jpg   \n",
       "\n",
       "                                                               source  \\\n",
       "id                                                                      \n",
       "892420643555336193  <a href=\"http://twitter.com/download/iphone\" r...   \n",
       "892177421306343426  <a href=\"http://twitter.com/download/iphone\" r...   \n",
       "891815181378084864  <a href=\"http://twitter.com/download/iphone\" r...   \n",
       "891689557279858688  <a href=\"http://twitter.com/download/iphone\" r...   \n",
       "891327558926688256  <a href=\"http://twitter.com/download/iphone\" r...   \n",
       "\n",
       "                    in_reply_to_status_id  in_reply_to_user_id  \\\n",
       "id                                                               \n",
       "892420643555336193                    NaN                  NaN   \n",
       "892177421306343426                    NaN                  NaN   \n",
       "891815181378084864                    NaN                  NaN   \n",
       "891689557279858688                    NaN                  NaN   \n",
       "891327558926688256                    NaN                  NaN   \n",
       "\n",
       "                    user_followers_count  user_favourites_count  \\\n",
       "id                                                                \n",
       "892420643555336193               8712175                 144652   \n",
       "892177421306343426               8712175                 144652   \n",
       "891815181378084864               8712175                 144652   \n",
       "891689557279858688               8712175                 144652   \n",
       "891327558926688256               8712175                 144652   \n",
       "\n",
       "                    retweet_count  favorite_count  retweeted  is_quote_status  \n",
       "id                                                                             \n",
       "892420643555336193           7774           36532      False            False  \n",
       "892177421306343426           5762           31472      False            False  \n",
       "891815181378084864           3812           23714      False            False  \n",
       "891689557279858688           7943           39859      False            False  \n",
       "891327558926688256           8571           38055      False            False  "
      ]
     },
     "execution_count": 16,
     "metadata": {},
     "output_type": "execute_result"
    }
   ],
   "source": [
    "columns = ['full_text','extended_entities_media_0_sizes_large_w','extended_entities_media_0_sizes_large_h','extended_entities_media_0_media_url_https',\n",
    "           'source','in_reply_to_status_id','in_reply_to_user_id','user_followers_count','user_favourites_count','retweet_count',\n",
    "           'favorite_count','retweeted','is_quote_status']\n",
    "\n",
    "df_add = df_add[columns]\n",
    "df_add.rename(columns={'full_text':'text','extended_entities_media_0_sizes_large_w':'image_width','extended_entities_media_0_sizes_large_h':'image_height','extended_entities_media_0_media_url_https':'expanded_urls'}, inplace=True)\n",
    "\n",
    "df_add.head()"
   ]
  },
  {
   "cell_type": "code",
   "execution_count": 17,
   "metadata": {},
   "outputs": [
    {
     "name": "stdout",
     "output_type": "stream",
     "text": [
      "<class 'pandas.core.frame.DataFrame'>\n",
      "Int64Index: 2331 entries, 892420643555336193 to 666020888022790149\n",
      "Data columns (total 13 columns):\n",
      " #   Column                 Non-Null Count  Dtype  \n",
      "---  ------                 --------------  -----  \n",
      " 0   text                   2331 non-null   object \n",
      " 1   image_width            2059 non-null   float64\n",
      " 2   image_height           2059 non-null   float64\n",
      " 3   expanded_urls          2059 non-null   object \n",
      " 4   source                 2331 non-null   object \n",
      " 5   in_reply_to_status_id  77 non-null     float64\n",
      " 6   in_reply_to_user_id    77 non-null     float64\n",
      " 7   user_followers_count   2331 non-null   int64  \n",
      " 8   user_favourites_count  2331 non-null   int64  \n",
      " 9   retweet_count          2331 non-null   int64  \n",
      " 10  favorite_count         2331 non-null   int64  \n",
      " 11  retweeted              2331 non-null   bool   \n",
      " 12  is_quote_status        2331 non-null   bool   \n",
      "dtypes: bool(2), float64(4), int64(4), object(3)\n",
      "memory usage: 223.1+ KB\n"
     ]
    }
   ],
   "source": [
    "df_add.info()"
   ]
  },
  {
   "cell_type": "markdown",
   "metadata": {},
   "source": [
    "The code above shows, that only 2059 picutres were found compared to the 2297 pictures found in the url column. Missing tweets dont explain this discrepancy in data. Hence, further investigation is necessary, although not mandatory because the pictures dont play a major role in our analysis."
   ]
  },
  {
   "cell_type": "markdown",
   "metadata": {},
   "source": [
    "##### II. D.) Merging Data\n",
    "\n",
    "Both datasets were merged together by pandas left join. A left join was used for merging since we dont want to loose any information - e.g. an inner join would loose the 25 missings - and to detect further missings or problems."
   ]
  },
  {
   "cell_type": "code",
   "execution_count": 347,
   "metadata": {
    "scrolled": false
   },
   "outputs": [
    {
     "data": {
      "text/html": [
       "<div>\n",
       "<style scoped>\n",
       "    .dataframe tbody tr th:only-of-type {\n",
       "        vertical-align: middle;\n",
       "    }\n",
       "\n",
       "    .dataframe tbody tr th {\n",
       "        vertical-align: top;\n",
       "    }\n",
       "\n",
       "    .dataframe thead th {\n",
       "        text-align: right;\n",
       "    }\n",
       "</style>\n",
       "<table border=\"1\" class=\"dataframe\">\n",
       "  <thead>\n",
       "    <tr style=\"text-align: right;\">\n",
       "      <th></th>\n",
       "      <th>in_reply_to_status_id</th>\n",
       "      <th>in_reply_to_user_id</th>\n",
       "      <th>timestamp</th>\n",
       "      <th>source</th>\n",
       "      <th>text</th>\n",
       "      <th>retweeted_status_id</th>\n",
       "      <th>retweeted_status_user_id</th>\n",
       "      <th>retweeted_status_timestamp</th>\n",
       "      <th>expanded_urls</th>\n",
       "      <th>rating_numerator</th>\n",
       "      <th>...</th>\n",
       "      <th>expanded_urls_add</th>\n",
       "      <th>source_add</th>\n",
       "      <th>in_reply_to_status_id_add</th>\n",
       "      <th>in_reply_to_user_id_add</th>\n",
       "      <th>user_followers_count</th>\n",
       "      <th>user_favourites_count</th>\n",
       "      <th>retweet_count</th>\n",
       "      <th>favorite_count</th>\n",
       "      <th>retweeted</th>\n",
       "      <th>is_quote_status</th>\n",
       "    </tr>\n",
       "    <tr>\n",
       "      <th>tweet_id</th>\n",
       "      <th></th>\n",
       "      <th></th>\n",
       "      <th></th>\n",
       "      <th></th>\n",
       "      <th></th>\n",
       "      <th></th>\n",
       "      <th></th>\n",
       "      <th></th>\n",
       "      <th></th>\n",
       "      <th></th>\n",
       "      <th></th>\n",
       "      <th></th>\n",
       "      <th></th>\n",
       "      <th></th>\n",
       "      <th></th>\n",
       "      <th></th>\n",
       "      <th></th>\n",
       "      <th></th>\n",
       "      <th></th>\n",
       "      <th></th>\n",
       "      <th></th>\n",
       "    </tr>\n",
       "  </thead>\n",
       "  <tbody>\n",
       "    <tr>\n",
       "      <th>892420643555336193</th>\n",
       "      <td>NaN</td>\n",
       "      <td>NaN</td>\n",
       "      <td>2017-08-01 16:23:56+00:00</td>\n",
       "      <td>&lt;a href=\"http://twitter.com/download/iphone\" r...</td>\n",
       "      <td>This is Phineas. He's a mystical boy. Only eve...</td>\n",
       "      <td>NaN</td>\n",
       "      <td>NaN</td>\n",
       "      <td>NaT</td>\n",
       "      <td>https://twitter.com/dog_rates/status/892420643...</td>\n",
       "      <td>13</td>\n",
       "      <td>...</td>\n",
       "      <td>https://pbs.twimg.com/media/DGKD1-bXoAAIAUK.jpg</td>\n",
       "      <td>&lt;a href=\"http://twitter.com/download/iphone\" r...</td>\n",
       "      <td>NaN</td>\n",
       "      <td>NaN</td>\n",
       "      <td>8712175.0</td>\n",
       "      <td>144652.0</td>\n",
       "      <td>7774.0</td>\n",
       "      <td>36532.0</td>\n",
       "      <td>False</td>\n",
       "      <td>False</td>\n",
       "    </tr>\n",
       "    <tr>\n",
       "      <th>892177421306343426</th>\n",
       "      <td>NaN</td>\n",
       "      <td>NaN</td>\n",
       "      <td>2017-08-01 00:17:27+00:00</td>\n",
       "      <td>&lt;a href=\"http://twitter.com/download/iphone\" r...</td>\n",
       "      <td>This is Tilly. She's just checking pup on you....</td>\n",
       "      <td>NaN</td>\n",
       "      <td>NaN</td>\n",
       "      <td>NaT</td>\n",
       "      <td>https://twitter.com/dog_rates/status/892177421...</td>\n",
       "      <td>13</td>\n",
       "      <td>...</td>\n",
       "      <td>https://pbs.twimg.com/media/DGGmoV4XsAAUL6n.jpg</td>\n",
       "      <td>&lt;a href=\"http://twitter.com/download/iphone\" r...</td>\n",
       "      <td>NaN</td>\n",
       "      <td>NaN</td>\n",
       "      <td>8712175.0</td>\n",
       "      <td>144652.0</td>\n",
       "      <td>5762.0</td>\n",
       "      <td>31472.0</td>\n",
       "      <td>False</td>\n",
       "      <td>False</td>\n",
       "    </tr>\n",
       "    <tr>\n",
       "      <th>891815181378084864</th>\n",
       "      <td>NaN</td>\n",
       "      <td>NaN</td>\n",
       "      <td>2017-07-31 00:18:03+00:00</td>\n",
       "      <td>&lt;a href=\"http://twitter.com/download/iphone\" r...</td>\n",
       "      <td>This is Archie. He is a rare Norwegian Pouncin...</td>\n",
       "      <td>NaN</td>\n",
       "      <td>NaN</td>\n",
       "      <td>NaT</td>\n",
       "      <td>https://twitter.com/dog_rates/status/891815181...</td>\n",
       "      <td>12</td>\n",
       "      <td>...</td>\n",
       "      <td>https://pbs.twimg.com/media/DGBdLU1WsAANxJ9.jpg</td>\n",
       "      <td>&lt;a href=\"http://twitter.com/download/iphone\" r...</td>\n",
       "      <td>NaN</td>\n",
       "      <td>NaN</td>\n",
       "      <td>8712175.0</td>\n",
       "      <td>144652.0</td>\n",
       "      <td>3812.0</td>\n",
       "      <td>23714.0</td>\n",
       "      <td>False</td>\n",
       "      <td>False</td>\n",
       "    </tr>\n",
       "    <tr>\n",
       "      <th>891689557279858688</th>\n",
       "      <td>NaN</td>\n",
       "      <td>NaN</td>\n",
       "      <td>2017-07-30 15:58:51+00:00</td>\n",
       "      <td>&lt;a href=\"http://twitter.com/download/iphone\" r...</td>\n",
       "      <td>This is Darla. She commenced a snooze mid meal...</td>\n",
       "      <td>NaN</td>\n",
       "      <td>NaN</td>\n",
       "      <td>NaT</td>\n",
       "      <td>https://twitter.com/dog_rates/status/891689557...</td>\n",
       "      <td>13</td>\n",
       "      <td>...</td>\n",
       "      <td>https://pbs.twimg.com/media/DF_q7IAWsAEuuN8.jpg</td>\n",
       "      <td>&lt;a href=\"http://twitter.com/download/iphone\" r...</td>\n",
       "      <td>NaN</td>\n",
       "      <td>NaN</td>\n",
       "      <td>8712175.0</td>\n",
       "      <td>144652.0</td>\n",
       "      <td>7943.0</td>\n",
       "      <td>39859.0</td>\n",
       "      <td>False</td>\n",
       "      <td>False</td>\n",
       "    </tr>\n",
       "    <tr>\n",
       "      <th>891327558926688256</th>\n",
       "      <td>NaN</td>\n",
       "      <td>NaN</td>\n",
       "      <td>2017-07-29 16:00:24+00:00</td>\n",
       "      <td>&lt;a href=\"http://twitter.com/download/iphone\" r...</td>\n",
       "      <td>This is Franklin. He would like you to stop ca...</td>\n",
       "      <td>NaN</td>\n",
       "      <td>NaN</td>\n",
       "      <td>NaT</td>\n",
       "      <td>https://twitter.com/dog_rates/status/891327558...</td>\n",
       "      <td>12</td>\n",
       "      <td>...</td>\n",
       "      <td>https://pbs.twimg.com/media/DF6hr6AVYAAZ8G8.jpg</td>\n",
       "      <td>&lt;a href=\"http://twitter.com/download/iphone\" r...</td>\n",
       "      <td>NaN</td>\n",
       "      <td>NaN</td>\n",
       "      <td>8712175.0</td>\n",
       "      <td>144652.0</td>\n",
       "      <td>8571.0</td>\n",
       "      <td>38055.0</td>\n",
       "      <td>False</td>\n",
       "      <td>False</td>\n",
       "    </tr>\n",
       "  </tbody>\n",
       "</table>\n",
       "<p>5 rows × 29 columns</p>\n",
       "</div>"
      ],
      "text/plain": [
       "                    in_reply_to_status_id  in_reply_to_user_id  \\\n",
       "tweet_id                                                         \n",
       "892420643555336193                    NaN                  NaN   \n",
       "892177421306343426                    NaN                  NaN   \n",
       "891815181378084864                    NaN                  NaN   \n",
       "891689557279858688                    NaN                  NaN   \n",
       "891327558926688256                    NaN                  NaN   \n",
       "\n",
       "                                   timestamp  \\\n",
       "tweet_id                                       \n",
       "892420643555336193 2017-08-01 16:23:56+00:00   \n",
       "892177421306343426 2017-08-01 00:17:27+00:00   \n",
       "891815181378084864 2017-07-31 00:18:03+00:00   \n",
       "891689557279858688 2017-07-30 15:58:51+00:00   \n",
       "891327558926688256 2017-07-29 16:00:24+00:00   \n",
       "\n",
       "                                                               source  \\\n",
       "tweet_id                                                                \n",
       "892420643555336193  <a href=\"http://twitter.com/download/iphone\" r...   \n",
       "892177421306343426  <a href=\"http://twitter.com/download/iphone\" r...   \n",
       "891815181378084864  <a href=\"http://twitter.com/download/iphone\" r...   \n",
       "891689557279858688  <a href=\"http://twitter.com/download/iphone\" r...   \n",
       "891327558926688256  <a href=\"http://twitter.com/download/iphone\" r...   \n",
       "\n",
       "                                                                 text  \\\n",
       "tweet_id                                                                \n",
       "892420643555336193  This is Phineas. He's a mystical boy. Only eve...   \n",
       "892177421306343426  This is Tilly. She's just checking pup on you....   \n",
       "891815181378084864  This is Archie. He is a rare Norwegian Pouncin...   \n",
       "891689557279858688  This is Darla. She commenced a snooze mid meal...   \n",
       "891327558926688256  This is Franklin. He would like you to stop ca...   \n",
       "\n",
       "                    retweeted_status_id  retweeted_status_user_id  \\\n",
       "tweet_id                                                            \n",
       "892420643555336193                  NaN                       NaN   \n",
       "892177421306343426                  NaN                       NaN   \n",
       "891815181378084864                  NaN                       NaN   \n",
       "891689557279858688                  NaN                       NaN   \n",
       "891327558926688256                  NaN                       NaN   \n",
       "\n",
       "                   retweeted_status_timestamp  \\\n",
       "tweet_id                                        \n",
       "892420643555336193                        NaT   \n",
       "892177421306343426                        NaT   \n",
       "891815181378084864                        NaT   \n",
       "891689557279858688                        NaT   \n",
       "891327558926688256                        NaT   \n",
       "\n",
       "                                                        expanded_urls  \\\n",
       "tweet_id                                                                \n",
       "892420643555336193  https://twitter.com/dog_rates/status/892420643...   \n",
       "892177421306343426  https://twitter.com/dog_rates/status/892177421...   \n",
       "891815181378084864  https://twitter.com/dog_rates/status/891815181...   \n",
       "891689557279858688  https://twitter.com/dog_rates/status/891689557...   \n",
       "891327558926688256  https://twitter.com/dog_rates/status/891327558...   \n",
       "\n",
       "                    rating_numerator  ...  \\\n",
       "tweet_id                              ...   \n",
       "892420643555336193                13  ...   \n",
       "892177421306343426                13  ...   \n",
       "891815181378084864                12  ...   \n",
       "891689557279858688                13  ...   \n",
       "891327558926688256                12  ...   \n",
       "\n",
       "                                                  expanded_urls_add  \\\n",
       "tweet_id                                                              \n",
       "892420643555336193  https://pbs.twimg.com/media/DGKD1-bXoAAIAUK.jpg   \n",
       "892177421306343426  https://pbs.twimg.com/media/DGGmoV4XsAAUL6n.jpg   \n",
       "891815181378084864  https://pbs.twimg.com/media/DGBdLU1WsAANxJ9.jpg   \n",
       "891689557279858688  https://pbs.twimg.com/media/DF_q7IAWsAEuuN8.jpg   \n",
       "891327558926688256  https://pbs.twimg.com/media/DF6hr6AVYAAZ8G8.jpg   \n",
       "\n",
       "                                                           source_add  \\\n",
       "tweet_id                                                                \n",
       "892420643555336193  <a href=\"http://twitter.com/download/iphone\" r...   \n",
       "892177421306343426  <a href=\"http://twitter.com/download/iphone\" r...   \n",
       "891815181378084864  <a href=\"http://twitter.com/download/iphone\" r...   \n",
       "891689557279858688  <a href=\"http://twitter.com/download/iphone\" r...   \n",
       "891327558926688256  <a href=\"http://twitter.com/download/iphone\" r...   \n",
       "\n",
       "                   in_reply_to_status_id_add in_reply_to_user_id_add  \\\n",
       "tweet_id                                                               \n",
       "892420643555336193                       NaN                     NaN   \n",
       "892177421306343426                       NaN                     NaN   \n",
       "891815181378084864                       NaN                     NaN   \n",
       "891689557279858688                       NaN                     NaN   \n",
       "891327558926688256                       NaN                     NaN   \n",
       "\n",
       "                   user_followers_count user_favourites_count retweet_count  \\\n",
       "tweet_id                                                                      \n",
       "892420643555336193            8712175.0              144652.0        7774.0   \n",
       "892177421306343426            8712175.0              144652.0        5762.0   \n",
       "891815181378084864            8712175.0              144652.0        3812.0   \n",
       "891689557279858688            8712175.0              144652.0        7943.0   \n",
       "891327558926688256            8712175.0              144652.0        8571.0   \n",
       "\n",
       "                    favorite_count  retweeted is_quote_status  \n",
       "tweet_id                                                       \n",
       "892420643555336193         36532.0      False           False  \n",
       "892177421306343426         31472.0      False           False  \n",
       "891815181378084864         23714.0      False           False  \n",
       "891689557279858688         39859.0      False           False  \n",
       "891327558926688256         38055.0      False           False  \n",
       "\n",
       "[5 rows x 29 columns]"
      ]
     },
     "execution_count": 347,
     "metadata": {},
     "output_type": "execute_result"
    }
   ],
   "source": [
    "df_combined = df.join(df_add, how='left', rsuffix='_add')\n",
    "df_combined.head()"
   ]
  },
  {
   "cell_type": "code",
   "execution_count": 348,
   "metadata": {},
   "outputs": [
    {
     "data": {
      "text/html": [
       "<div>\n",
       "<style scoped>\n",
       "    .dataframe tbody tr th:only-of-type {\n",
       "        vertical-align: middle;\n",
       "    }\n",
       "\n",
       "    .dataframe tbody tr th {\n",
       "        vertical-align: top;\n",
       "    }\n",
       "\n",
       "    .dataframe thead th {\n",
       "        text-align: right;\n",
       "    }\n",
       "</style>\n",
       "<table border=\"1\" class=\"dataframe\">\n",
       "  <thead>\n",
       "    <tr style=\"text-align: right;\">\n",
       "      <th></th>\n",
       "      <th>in_reply_to_status_id</th>\n",
       "      <th>in_reply_to_user_id</th>\n",
       "      <th>retweeted_status_id</th>\n",
       "      <th>retweeted_status_user_id</th>\n",
       "      <th>rating_numerator</th>\n",
       "      <th>rating_denominator</th>\n",
       "      <th>image_width</th>\n",
       "      <th>image_height</th>\n",
       "      <th>in_reply_to_status_id_add</th>\n",
       "      <th>in_reply_to_user_id_add</th>\n",
       "      <th>user_followers_count</th>\n",
       "      <th>user_favourites_count</th>\n",
       "      <th>retweet_count</th>\n",
       "      <th>favorite_count</th>\n",
       "    </tr>\n",
       "  </thead>\n",
       "  <tbody>\n",
       "    <tr>\n",
       "      <th>count</th>\n",
       "      <td>7.800000e+01</td>\n",
       "      <td>7.800000e+01</td>\n",
       "      <td>1.810000e+02</td>\n",
       "      <td>1.810000e+02</td>\n",
       "      <td>2356.000000</td>\n",
       "      <td>2356.000000</td>\n",
       "      <td>2059.000000</td>\n",
       "      <td>2059.000000</td>\n",
       "      <td>7.700000e+01</td>\n",
       "      <td>7.700000e+01</td>\n",
       "      <td>2.331000e+03</td>\n",
       "      <td>2331.000000</td>\n",
       "      <td>2331.000000</td>\n",
       "      <td>2331.000000</td>\n",
       "    </tr>\n",
       "    <tr>\n",
       "      <th>mean</th>\n",
       "      <td>7.455079e+17</td>\n",
       "      <td>2.014171e+16</td>\n",
       "      <td>7.720400e+17</td>\n",
       "      <td>1.241698e+16</td>\n",
       "      <td>13.126486</td>\n",
       "      <td>10.455433</td>\n",
       "      <td>876.972317</td>\n",
       "      <td>1039.870811</td>\n",
       "      <td>7.440692e+17</td>\n",
       "      <td>2.040329e+16</td>\n",
       "      <td>8.712202e+06</td>\n",
       "      <td>144652.007722</td>\n",
       "      <td>2731.112827</td>\n",
       "      <td>7633.728014</td>\n",
       "    </tr>\n",
       "    <tr>\n",
       "      <th>std</th>\n",
       "      <td>7.582492e+16</td>\n",
       "      <td>1.252797e+17</td>\n",
       "      <td>6.236928e+16</td>\n",
       "      <td>9.599254e+16</td>\n",
       "      <td>45.876648</td>\n",
       "      <td>6.745237</td>\n",
       "      <td>365.890834</td>\n",
       "      <td>449.026105</td>\n",
       "      <td>7.524295e+16</td>\n",
       "      <td>1.260797e+17</td>\n",
       "      <td>5.525593e+01</td>\n",
       "      <td>0.087554</td>\n",
       "      <td>4618.924808</td>\n",
       "      <td>11844.919091</td>\n",
       "    </tr>\n",
       "    <tr>\n",
       "      <th>min</th>\n",
       "      <td>6.658147e+17</td>\n",
       "      <td>1.185634e+07</td>\n",
       "      <td>6.661041e+17</td>\n",
       "      <td>7.832140e+05</td>\n",
       "      <td>0.000000</td>\n",
       "      <td>0.000000</td>\n",
       "      <td>119.000000</td>\n",
       "      <td>119.000000</td>\n",
       "      <td>6.658147e+17</td>\n",
       "      <td>1.185634e+07</td>\n",
       "      <td>8.712174e+06</td>\n",
       "      <td>144652.000000</td>\n",
       "      <td>1.000000</td>\n",
       "      <td>0.000000</td>\n",
       "    </tr>\n",
       "    <tr>\n",
       "      <th>25%</th>\n",
       "      <td>6.757419e+17</td>\n",
       "      <td>3.086374e+08</td>\n",
       "      <td>7.186315e+17</td>\n",
       "      <td>4.196984e+09</td>\n",
       "      <td>10.000000</td>\n",
       "      <td>10.000000</td>\n",
       "      <td>612.000000</td>\n",
       "      <td>755.500000</td>\n",
       "      <td>6.757073e+17</td>\n",
       "      <td>3.589728e+08</td>\n",
       "      <td>8.712183e+06</td>\n",
       "      <td>144652.000000</td>\n",
       "      <td>552.500000</td>\n",
       "      <td>1333.500000</td>\n",
       "    </tr>\n",
       "    <tr>\n",
       "      <th>50%</th>\n",
       "      <td>7.038708e+17</td>\n",
       "      <td>4.196984e+09</td>\n",
       "      <td>7.804657e+17</td>\n",
       "      <td>4.196984e+09</td>\n",
       "      <td>11.000000</td>\n",
       "      <td>10.000000</td>\n",
       "      <td>768.000000</td>\n",
       "      <td>1024.000000</td>\n",
       "      <td>7.032559e+17</td>\n",
       "      <td>4.196984e+09</td>\n",
       "      <td>8.712199e+06</td>\n",
       "      <td>144652.000000</td>\n",
       "      <td>1282.000000</td>\n",
       "      <td>3323.000000</td>\n",
       "    </tr>\n",
       "    <tr>\n",
       "      <th>75%</th>\n",
       "      <td>8.257804e+17</td>\n",
       "      <td>4.196984e+09</td>\n",
       "      <td>8.203146e+17</td>\n",
       "      <td>4.196984e+09</td>\n",
       "      <td>12.000000</td>\n",
       "      <td>10.000000</td>\n",
       "      <td>1024.000000</td>\n",
       "      <td>1024.000000</td>\n",
       "      <td>8.233264e+17</td>\n",
       "      <td>4.196984e+09</td>\n",
       "      <td>8.712210e+06</td>\n",
       "      <td>144652.000000</td>\n",
       "      <td>3175.500000</td>\n",
       "      <td>9363.500000</td>\n",
       "    </tr>\n",
       "    <tr>\n",
       "      <th>max</th>\n",
       "      <td>8.862664e+17</td>\n",
       "      <td>8.405479e+17</td>\n",
       "      <td>8.874740e+17</td>\n",
       "      <td>7.874618e+17</td>\n",
       "      <td>1776.000000</td>\n",
       "      <td>170.000000</td>\n",
       "      <td>2048.000000</td>\n",
       "      <td>2048.000000</td>\n",
       "      <td>8.862664e+17</td>\n",
       "      <td>8.405479e+17</td>\n",
       "      <td>8.712825e+06</td>\n",
       "      <td>144653.000000</td>\n",
       "      <td>78592.000000</td>\n",
       "      <td>157874.000000</td>\n",
       "    </tr>\n",
       "  </tbody>\n",
       "</table>\n",
       "</div>"
      ],
      "text/plain": [
       "       in_reply_to_status_id  in_reply_to_user_id  retweeted_status_id  \\\n",
       "count           7.800000e+01         7.800000e+01         1.810000e+02   \n",
       "mean            7.455079e+17         2.014171e+16         7.720400e+17   \n",
       "std             7.582492e+16         1.252797e+17         6.236928e+16   \n",
       "min             6.658147e+17         1.185634e+07         6.661041e+17   \n",
       "25%             6.757419e+17         3.086374e+08         7.186315e+17   \n",
       "50%             7.038708e+17         4.196984e+09         7.804657e+17   \n",
       "75%             8.257804e+17         4.196984e+09         8.203146e+17   \n",
       "max             8.862664e+17         8.405479e+17         8.874740e+17   \n",
       "\n",
       "       retweeted_status_user_id  rating_numerator  rating_denominator  \\\n",
       "count              1.810000e+02       2356.000000         2356.000000   \n",
       "mean               1.241698e+16         13.126486           10.455433   \n",
       "std                9.599254e+16         45.876648            6.745237   \n",
       "min                7.832140e+05          0.000000            0.000000   \n",
       "25%                4.196984e+09         10.000000           10.000000   \n",
       "50%                4.196984e+09         11.000000           10.000000   \n",
       "75%                4.196984e+09         12.000000           10.000000   \n",
       "max                7.874618e+17       1776.000000          170.000000   \n",
       "\n",
       "       image_width  image_height  in_reply_to_status_id_add  \\\n",
       "count  2059.000000   2059.000000               7.700000e+01   \n",
       "mean    876.972317   1039.870811               7.440692e+17   \n",
       "std     365.890834    449.026105               7.524295e+16   \n",
       "min     119.000000    119.000000               6.658147e+17   \n",
       "25%     612.000000    755.500000               6.757073e+17   \n",
       "50%     768.000000   1024.000000               7.032559e+17   \n",
       "75%    1024.000000   1024.000000               8.233264e+17   \n",
       "max    2048.000000   2048.000000               8.862664e+17   \n",
       "\n",
       "       in_reply_to_user_id_add  user_followers_count  user_favourites_count  \\\n",
       "count             7.700000e+01          2.331000e+03            2331.000000   \n",
       "mean              2.040329e+16          8.712202e+06          144652.007722   \n",
       "std               1.260797e+17          5.525593e+01               0.087554   \n",
       "min               1.185634e+07          8.712174e+06          144652.000000   \n",
       "25%               3.589728e+08          8.712183e+06          144652.000000   \n",
       "50%               4.196984e+09          8.712199e+06          144652.000000   \n",
       "75%               4.196984e+09          8.712210e+06          144652.000000   \n",
       "max               8.405479e+17          8.712825e+06          144653.000000   \n",
       "\n",
       "       retweet_count  favorite_count  \n",
       "count    2331.000000     2331.000000  \n",
       "mean     2731.112827     7633.728014  \n",
       "std      4618.924808    11844.919091  \n",
       "min         1.000000        0.000000  \n",
       "25%       552.500000     1333.500000  \n",
       "50%      1282.000000     3323.000000  \n",
       "75%      3175.500000     9363.500000  \n",
       "max     78592.000000   157874.000000  "
      ]
     },
     "execution_count": 348,
     "metadata": {},
     "output_type": "execute_result"
    }
   ],
   "source": [
    "df_combined.describe()"
   ]
  },
  {
   "cell_type": "markdown",
   "metadata": {},
   "source": [
    "Histogramms were plotted in addition to the describe-command to better understanding of the data. The below plots show that retweet count and favorite count are highly skewed. This is not a problem per se but it has to be considered when plotting."
   ]
  },
  {
   "cell_type": "code",
   "execution_count": 349,
   "metadata": {
    "scrolled": false
   },
   "outputs": [
    {
     "data": {
      "image/png": "[encoded data removed]",
      "text/plain": [
       "<Figure size 432x288 with 1 Axes>"
      ]
     },
     "metadata": {
      "needs_background": "light"
     },
     "output_type": "display_data"
    },
    {
     "data": {
      "image/png": "[encoded data removed]",
      "text/plain": [
       "<Figure size 432x288 with 1 Axes>"
      ]
     },
     "metadata": {
      "needs_background": "light"
     },
     "output_type": "display_data"
    },
    {
     "data": {
      "image/png": "[encoded data removed]",
      "text/plain": [
       "<Figure size 432x288 with 1 Axes>"
      ]
     },
     "metadata": {
      "needs_background": "light"
     },
     "output_type": "display_data"
    },
    {
     "data": {
      "image/png": "[encoded data removed]",
      "text/plain": [
       "<Figure size 432x288 with 1 Axes>"
      ]
     },
     "metadata": {
      "needs_background": "light"
     },
     "output_type": "display_data"
    }
   ],
   "source": [
    "hist_list = ['rating_numerator','rating_denominator','retweet_count','favorite_count']\n",
    "\n",
    "for x in hist_list:\n",
    "        if df_combined[x].dtype != 'O':\n",
    "            df_combined[x].hist();\n",
    "            plt.title(str(x).upper())\n",
    "            plt.ylabel('Frequency')\n",
    "            plt.show()\n",
    "            plt.clf"
   ]
  },
  {
   "cell_type": "code",
   "execution_count": 350,
   "metadata": {},
   "outputs": [
    {
     "name": "stdout",
     "output_type": "stream",
     "text": [
      "<class 'pandas.core.frame.DataFrame'>\n",
      "Int64Index: 2356 entries, 892420643555336193 to 666020888022790149\n",
      "Data columns (total 29 columns):\n",
      " #   Column                      Non-Null Count  Dtype              \n",
      "---  ------                      --------------  -----              \n",
      " 0   in_reply_to_status_id       78 non-null     float64            \n",
      " 1   in_reply_to_user_id         78 non-null     float64            \n",
      " 2   timestamp                   2356 non-null   datetime64[ns, UTC]\n",
      " 3   source                      2356 non-null   object             \n",
      " 4   text                        2356 non-null   object             \n",
      " 5   retweeted_status_id         181 non-null    float64            \n",
      " 6   retweeted_status_user_id    181 non-null    float64            \n",
      " 7   retweeted_status_timestamp  181 non-null    datetime64[ns, UTC]\n",
      " 8   expanded_urls               2297 non-null   object             \n",
      " 9   rating_numerator            2356 non-null   int64              \n",
      " 10  rating_denominator          2356 non-null   int64              \n",
      " 11  name                        2356 non-null   object             \n",
      " 12  doggo                       2356 non-null   object             \n",
      " 13  floofer                     2356 non-null   object             \n",
      " 14  pupper                      2356 non-null   object             \n",
      " 15  puppo                       2356 non-null   object             \n",
      " 16  text_add                    2331 non-null   object             \n",
      " 17  image_width                 2059 non-null   float64            \n",
      " 18  image_height                2059 non-null   float64            \n",
      " 19  expanded_urls_add           2059 non-null   object             \n",
      " 20  source_add                  2331 non-null   object             \n",
      " 21  in_reply_to_status_id_add   77 non-null     float64            \n",
      " 22  in_reply_to_user_id_add     77 non-null     float64            \n",
      " 23  user_followers_count        2331 non-null   float64            \n",
      " 24  user_favourites_count       2331 non-null   float64            \n",
      " 25  retweet_count               2331 non-null   float64            \n",
      " 26  favorite_count              2331 non-null   float64            \n",
      " 27  retweeted                   2331 non-null   object             \n",
      " 28  is_quote_status             2331 non-null   object             \n",
      "dtypes: datetime64[ns, UTC](2), float64(12), int64(2), object(13)\n",
      "memory usage: 632.2+ KB\n"
     ]
    }
   ],
   "source": [
    "df_combined.info()"
   ]
  },
  {
   "cell_type": "markdown",
   "metadata": {},
   "source": [
    "Last but not least, it was checked for duplicates. Since tweet id should be unique it isn't sufficient to check for duplicate rows."
   ]
  },
  {
   "cell_type": "code",
   "execution_count": 351,
   "metadata": {},
   "outputs": [
    {
     "data": {
      "text/plain": [
       "0"
      ]
     },
     "execution_count": 351,
     "metadata": {},
     "output_type": "execute_result"
    }
   ],
   "source": [
    "df_combined.index.duplicated().sum()"
   ]
  },
  {
   "cell_type": "markdown",
   "metadata": {},
   "source": [
    "##### II. E.) Data Problems\n",
    "\n",
    "During data gathering and inspection following problems were detected:\n",
    "\n",
    "1. Dates are formatted as strings instead of datetime objects (Note: this is already fixed by the time reading by \"parse_dates\" in the \"pd.read_csv\"-command)\n",
    "2. in_reply_to_status_id and in_reply_to_user_id are formatted as floats instead of strings\n",
    "3. image_width, image_height, retweet_count, favorite_count, user_followers_count and user_favourites_count are formatted as floats instead of integers\n",
    "4. source columns contains full HTML tags\n",
    "5. doggo, floofer, pupper and puppo dont contain any information\n",
    "6. rating numerator and rating denominator reflect one information\n",
    "7. expanded_urls_add is less than expanded_urls\n",
    "8. there are duplicate columns: text, expanded_urls, source, in_reply_to_status_id, in_reply_to_user_id"
   ]
  },
  {
   "cell_type": "code",
   "execution_count": 352,
   "metadata": {},
   "outputs": [
    {
     "data": {
      "image/jpeg": "[encoded data removed]",
      "text/plain": [
       "<IPython.core.display.Image object>"
      ]
     },
     "execution_count": 352,
     "metadata": {
      "image/jpeg": {
       "height": 260,
       "width": 260
      }
     },
     "output_type": "execute_result"
    }
   ],
   "source": [
    "random_dog = random.choice(df_combined[df_combined.expanded_urls_add.notnull()].expanded_urls_add.values)\n",
    "Image(url=random_dog, embed=True, width=260, height=260)"
   ]
  },
  {
   "cell_type": "markdown",
   "metadata": {},
   "source": [
    "<a id='wrangling'></a>\n",
    "## III. - Data Wrangling\n",
    "\n",
    "This chapter aims at solving the issues raised above. Since dates are formatted correctly by now in_reply_to_status_id and in_reply_to_user_id were treated next.\n",
    "\n",
    "##### III. A.) Format floats to strings e.g. in_reply_to_status_id and in_reply_to_user_id\n",
    "\n",
    "Columns like \"in_reply_to_status_id\" or \"in_reply_to_user_id\" are numbers but since these columns are identifiers they cannot be used for calculation. A sum of ID's is not informative at all."
   ]
  },
  {
   "cell_type": "code",
   "execution_count": 353,
   "metadata": {},
   "outputs": [],
   "source": [
    "convert_strings = ['in_reply_to_status_id','in_reply_to_user_id','in_reply_to_status_id_add','in_reply_to_user_id_add','retweeted_status_id','retweeted_status_user_id']\n",
    "\n",
    "for x in convert_strings:\n",
    "    df_combined[x] =  df_combined[x].apply(lambda y: str(y))"
   ]
  },
  {
   "cell_type": "code",
   "execution_count": 354,
   "metadata": {
    "scrolled": false
   },
   "outputs": [
    {
     "name": "stdout",
     "output_type": "stream",
     "text": [
      "<class 'pandas.core.frame.DataFrame'>\n",
      "Int64Index: 2356 entries, 892420643555336193 to 666020888022790149\n",
      "Data columns (total 29 columns):\n",
      " #   Column                      Non-Null Count  Dtype              \n",
      "---  ------                      --------------  -----              \n",
      " 0   in_reply_to_status_id       2356 non-null   object             \n",
      " 1   in_reply_to_user_id         2356 non-null   object             \n",
      " 2   timestamp                   2356 non-null   datetime64[ns, UTC]\n",
      " 3   source                      2356 non-null   object             \n",
      " 4   text                        2356 non-null   object             \n",
      " 5   retweeted_status_id         2356 non-null   object             \n",
      " 6   retweeted_status_user_id    2356 non-null   object             \n",
      " 7   retweeted_status_timestamp  181 non-null    datetime64[ns, UTC]\n",
      " 8   expanded_urls               2297 non-null   object             \n",
      " 9   rating_numerator            2356 non-null   int64              \n",
      " 10  rating_denominator          2356 non-null   int64              \n",
      " 11  name                        2356 non-null   object             \n",
      " 12  doggo                       2356 non-null   object             \n",
      " 13  floofer                     2356 non-null   object             \n",
      " 14  pupper                      2356 non-null   object             \n",
      " 15  puppo                       2356 non-null   object             \n",
      " 16  text_add                    2331 non-null   object             \n",
      " 17  image_width                 2059 non-null   float64            \n",
      " 18  image_height                2059 non-null   float64            \n",
      " 19  expanded_urls_add           2059 non-null   object             \n",
      " 20  source_add                  2331 non-null   object             \n",
      " 21  in_reply_to_status_id_add   2356 non-null   object             \n",
      " 22  in_reply_to_user_id_add     2356 non-null   object             \n",
      " 23  user_followers_count        2331 non-null   float64            \n",
      " 24  user_favourites_count       2331 non-null   float64            \n",
      " 25  retweet_count               2331 non-null   float64            \n",
      " 26  favorite_count              2331 non-null   float64            \n",
      " 27  retweeted                   2331 non-null   object             \n",
      " 28  is_quote_status             2331 non-null   object             \n",
      "dtypes: datetime64[ns, UTC](2), float64(6), int64(2), object(19)\n",
      "memory usage: 632.2+ KB\n"
     ]
    }
   ],
   "source": [
    "df_combined.info()"
   ]
  },
  {
   "cell_type": "markdown",
   "metadata": {},
   "source": [
    "##### III. B.) Format floats to ints e.g. image_width and image_height\n",
    "\n",
    "These columns are clearly numeric values that could be used for calcultion. Even though we don' sum \"image_width\" and \"image_height\", in some cases it might be usefull to re-scale them or cap these values to fit a specific aspect ratio."
   ]
  },
  {
   "cell_type": "code",
   "execution_count": 355,
   "metadata": {},
   "outputs": [],
   "source": [
    "convert_ints = ['image_width','image_height','retweet_count','favorite_count','user_followers_count','user_favourites_count']\n",
    "\n",
    "for x in convert_ints:\n",
    "    # Minimum values for columns with missings are greater than 0. Thus we transform NA's to 0\n",
    "    df_combined[x] =  df_combined[x].fillna(0)\n",
    "    df_combined[x] =  df_combined[x].apply(lambda y: int(y))"
   ]
  },
  {
   "cell_type": "code",
   "execution_count": 356,
   "metadata": {
    "scrolled": false
   },
   "outputs": [
    {
     "name": "stdout",
     "output_type": "stream",
     "text": [
      "<class 'pandas.core.frame.DataFrame'>\n",
      "Int64Index: 2356 entries, 892420643555336193 to 666020888022790149\n",
      "Data columns (total 29 columns):\n",
      " #   Column                      Non-Null Count  Dtype              \n",
      "---  ------                      --------------  -----              \n",
      " 0   in_reply_to_status_id       2356 non-null   object             \n",
      " 1   in_reply_to_user_id         2356 non-null   object             \n",
      " 2   timestamp                   2356 non-null   datetime64[ns, UTC]\n",
      " 3   source                      2356 non-null   object             \n",
      " 4   text                        2356 non-null   object             \n",
      " 5   retweeted_status_id         2356 non-null   object             \n",
      " 6   retweeted_status_user_id    2356 non-null   object             \n",
      " 7   retweeted_status_timestamp  181 non-null    datetime64[ns, UTC]\n",
      " 8   expanded_urls               2297 non-null   object             \n",
      " 9   rating_numerator            2356 non-null   int64              \n",
      " 10  rating_denominator          2356 non-null   int64              \n",
      " 11  name                        2356 non-null   object             \n",
      " 12  doggo                       2356 non-null   object             \n",
      " 13  floofer                     2356 non-null   object             \n",
      " 14  pupper                      2356 non-null   object             \n",
      " 15  puppo                       2356 non-null   object             \n",
      " 16  text_add                    2331 non-null   object             \n",
      " 17  image_width                 2356 non-null   int64              \n",
      " 18  image_height                2356 non-null   int64              \n",
      " 19  expanded_urls_add           2059 non-null   object             \n",
      " 20  source_add                  2331 non-null   object             \n",
      " 21  in_reply_to_status_id_add   2356 non-null   object             \n",
      " 22  in_reply_to_user_id_add     2356 non-null   object             \n",
      " 23  user_followers_count        2356 non-null   int64              \n",
      " 24  user_favourites_count       2356 non-null   int64              \n",
      " 25  retweet_count               2356 non-null   int64              \n",
      " 26  favorite_count              2356 non-null   int64              \n",
      " 27  retweeted                   2331 non-null   object             \n",
      " 28  is_quote_status             2331 non-null   object             \n",
      "dtypes: datetime64[ns, UTC](2), int64(8), object(19)\n",
      "memory usage: 632.2+ KB\n"
     ]
    }
   ],
   "source": [
    "df_combined.info()"
   ]
  },
  {
   "cell_type": "markdown",
   "metadata": {},
   "source": [
    "##### III. C.) Source columns contains full HTML tags\n",
    "\n",
    "Since this column contains full HTML tags, it was decided to split the string by bracktes. Thus, we receive the information between the HTML tags."
   ]
  },
  {
   "cell_type": "code",
   "execution_count": 357,
   "metadata": {},
   "outputs": [],
   "source": [
    "df_combined['source'] =  df_combined['source'].apply(lambda y: y.split('>')[1].split('<')[0])"
   ]
  },
  {
   "cell_type": "code",
   "execution_count": 358,
   "metadata": {},
   "outputs": [
    {
     "data": {
      "text/plain": [
       "array(['Twitter for iPhone', 'Twitter Web Client', 'Vine - Make a Scene',\n",
       "       'TweetDeck'], dtype=object)"
      ]
     },
     "execution_count": 358,
     "metadata": {},
     "output_type": "execute_result"
    }
   ],
   "source": [
    "df_combined['source'].unique()"
   ]
  },
  {
   "cell_type": "markdown",
   "metadata": {},
   "source": [
    "##### III. D.) Doggo, Floofer, Pupper and Puppo\n",
    "\n",
    "As mentioned in the very beginning, doggo, floofer, pupper and puppo are slang terms for dogs. A dog is mapped to the respective category by age. Hence, the true information in all four columns is the same - age. However, WeRateDogs® uses the term floofer for furry dogs.\n",
    "\n",
    "Thus we combine the information doggo and pupper/puppo in a new categorical column called age. Floofer is converted into a boolean variable, reflecting the information wether a dog is furry by either yes or no."
   ]
  },
  {
   "cell_type": "code",
   "execution_count": 359,
   "metadata": {},
   "outputs": [
    {
     "data": {
      "text/plain": [
       "10"
      ]
     },
     "execution_count": 359,
     "metadata": {},
     "output_type": "execute_result"
    }
   ],
   "source": [
    "df_combined['furry'] = df_combined['floofer']=='floofer'\n",
    "df_combined['furry'].sum()"
   ]
  },
  {
   "cell_type": "markdown",
   "metadata": {},
   "source": [
    "Before merging pupper and puppo it was checked that both columns dont overlap. Since there is no overlap both columns contain information for diffrent tweets. Thus, merging both columns is easily possible."
   ]
  },
  {
   "cell_type": "code",
   "execution_count": 360,
   "metadata": {},
   "outputs": [
    {
     "data": {
      "text/plain": [
       "True"
      ]
     },
     "execution_count": 360,
     "metadata": {},
     "output_type": "execute_result"
    }
   ],
   "source": [
    "(df_combined[df_combined['pupper']=='pupper'].puppo != 'None').sum() == (df_combined[df_combined['puppo']=='puppo'].pupper != 'None').sum() == 0"
   ]
  },
  {
   "cell_type": "code",
   "execution_count": 361,
   "metadata": {
    "scrolled": true
   },
   "outputs": [
    {
     "data": {
      "text/plain": [
       "Unknown    1985\n",
       "Child       274\n",
       "Adult        97\n",
       "Name: age, dtype: int64"
      ]
     },
     "execution_count": 361,
     "metadata": {},
     "output_type": "execute_result"
    }
   ],
   "source": [
    "df_combined['age'] = 'Unknown'\n",
    "age_list = ['pupper','puppo','doggo']\n",
    "\n",
    "for x in age_list:\n",
    "    if x == 'doggo':\n",
    "        df_combined.loc[df_combined[x]==x, 'age'] = 'Adult'\n",
    "    else:\n",
    "        df_combined.loc[df_combined[x]==x, 'age'] = 'Child'\n",
    "\n",
    "df_combined['age'].value_counts()"
   ]
  },
  {
   "cell_type": "code",
   "execution_count": 362,
   "metadata": {},
   "outputs": [
    {
     "data": {
      "text/plain": [
       "array([\"This is Phineas. He's a mystical boy. Only ever appears in the hole of a donut. 13/10 https://t.co/MgUWQ76dJU\",\n",
       "       \"This is Tilly. She's just checking pup on you. Hopes you're doing ok. If not, she's available for pats, snugs, boops, the whole bit. 13/10 https://t.co/0Xxu71qeIV\",\n",
       "       'This is Archie. He is a rare Norwegian Pouncing Corgo. Lives in the tall grass. You never know when one may strike. 12/10 https://t.co/wUnZnhtVJB',\n",
       "       ...,\n",
       "       'Here is a very happy pup. Big fan of well-maintained decks. Just look at that tongue. 9/10 would cuddle af https://t.co/y671yMhoiR',\n",
       "       'This is a western brown Mitsubishi terrier. Upset about leaf. Actually 2 dogs here. 7/10 would walk the shit out of https://t.co/r7mOb2m0UI',\n",
       "       'Here we have a Japanese Irish Setter. Lost eye in Vietnam (?). Big fan of relaxing on stair. 8/10 would pet https://t.co/BLDqew2Ijj'],\n",
       "      dtype=object)"
      ]
     },
     "execution_count": 362,
     "metadata": {},
     "output_type": "execute_result"
    }
   ],
   "source": [
    "df_combined[df_combined['age']=='Unknown'].text.values"
   ]
  },
  {
   "cell_type": "markdown",
   "metadata": {},
   "source": [
    "Numbers suggest that there are only 10 floofers in the sample. A quick look at the texts revealed that the columns floofer, doggo, pupper and puppo are just taken from the text. A short example: In case the text contains the word \"pupper\" then the column pupper is filled with \"pupper\". This is problematic for two reasons! First, in case the text contains \"pupper\" or \"puppo\" a puppy is not identified as puppy. Second, the text colums often contain diffrent informations, which makes sense because tweets shoudn't look the same. \n",
    "\n",
    "However, this undermines the trustworthiness of text analysis. As can be seen, the informations contained in the text coulmn are diffrent across tweets.\n",
    "\n",
    "Hence,features are kept but original columns were dropped, since the information is barely useable."
   ]
  },
  {
   "cell_type": "code",
   "execution_count": 363,
   "metadata": {},
   "outputs": [],
   "source": [
    "df_combined.drop(['doggo','pupper','puppo','floofer'], axis=1, inplace=True)"
   ]
  },
  {
   "cell_type": "markdown",
   "metadata": {},
   "source": [
    "##### III. D.) Rating numerator and Rating denominator reflect one information\n",
    "\n",
    "The final dog ratings consist of two elements a numerator and a denominator. Since the denominator can change it would be misleading to compare dogs based on the numerator. In case of a constant denominator there is no diffrence between the final rating and the numerator, since the rank ordering would be the same.\n",
    "\n",
    "Hence, the rating is calculated in the next step. Before calculation, rating denominators were floored at 1 to prevent division by 0. "
   ]
  },
  {
   "cell_type": "code",
   "execution_count": 364,
   "metadata": {},
   "outputs": [
    {
     "data": {
      "text/plain": [
       "0"
      ]
     },
     "execution_count": 364,
     "metadata": {},
     "output_type": "execute_result"
    }
   ],
   "source": [
    "df_combined.loc[df_combined['rating_denominator']==0, 'rating_denominator'] = 1\n",
    "(df_combined['rating_denominator']==0).sum()"
   ]
  },
  {
   "cell_type": "code",
   "execution_count": 365,
   "metadata": {},
   "outputs": [],
   "source": [
    "df_combined['rating'] = df_combined['rating_numerator'] / df_combined['rating_denominator']"
   ]
  },
  {
   "cell_type": "code",
   "execution_count": 366,
   "metadata": {},
   "outputs": [
    {
     "data": {
      "image/png": "[encoded data removed]",
      "text/plain": [
       "<Figure size 432x288 with 1 Axes>"
      ]
     },
     "metadata": {
      "needs_background": "light"
     },
     "output_type": "display_data"
    }
   ],
   "source": [
    "df_combined['rating'].hist()\n",
    "plt.title(str('rating').upper())\n",
    "plt.ylabel('Frequency')\n",
    "plt.show()\n",
    "plt.clf;"
   ]
  },
  {
   "cell_type": "code",
   "execution_count": 367,
   "metadata": {},
   "outputs": [
    {
     "data": {
      "text/plain": [
       "14"
      ]
     },
     "execution_count": 367,
     "metadata": {},
     "output_type": "execute_result"
    }
   ],
   "source": [
    "len(df_combined[df_combined['rating']>df_combined['rating'].quantile(0.99)])"
   ]
  },
  {
   "cell_type": "markdown",
   "metadata": {},
   "source": [
    "The histogramm above is biased due to 14 outliers with a rating greater than the 99% confidence intervall. Thus, values were capped at the 99% confidence intervall."
   ]
  },
  {
   "cell_type": "code",
   "execution_count": 368,
   "metadata": {},
   "outputs": [],
   "source": [
    "df_combined.loc[df_combined['rating']>df_combined['rating'].quantile(0.99), 'rating'] = df_combined['rating'].quantile(0.99)"
   ]
  },
  {
   "cell_type": "code",
   "execution_count": 369,
   "metadata": {},
   "outputs": [
    {
     "data": {
      "image/png": "[encoded data removed]",
      "text/plain": [
       "<Figure size 432x288 with 1 Axes>"
      ]
     },
     "metadata": {
      "needs_background": "light"
     },
     "output_type": "display_data"
    }
   ],
   "source": [
    "df_combined['rating'].hist()\n",
    "plt.title(str('rating').upper())\n",
    "plt.ylabel('Frequency')\n",
    "plt.show()\n",
    "plt.clf;"
   ]
  },
  {
   "cell_type": "code",
   "execution_count": 370,
   "metadata": {},
   "outputs": [],
   "source": [
    "df_combined.drop(['rating_numerator','rating_denominator'], axis=1, inplace=True)"
   ]
  },
  {
   "cell_type": "markdown",
   "metadata": {},
   "source": [
    "##### III. E.) Expanded_urls_add is less than expanded_urls\n",
    "\n",
    "Next, it was checked why expanded_urls (59) column contains less missings than expanded_urls_add (297 missings). Please keep in mind, that missing URL's are mostly replies or retweets, which means the URL is not truly missing i.e. there are 3 missing URL's in expanded_urls."
   ]
  },
  {
   "cell_type": "code",
   "execution_count": 371,
   "metadata": {},
   "outputs": [
    {
     "data": {
      "text/plain": [
       "tweet_id\n",
       "888202515573088257    https://twitter.com/dog_rates/status/887473957...\n",
       "886267009285017600                                                  NaN\n",
       "886054160059072513    https://twitter.com/dog_rates/status/886053434...\n",
       "885518971528720385    https://twitter.com/4bonds2carbon/status/88551...\n",
       "884247878851493888    https://twitter.com/kaijohnson_19/status/88396...\n",
       "                                            ...                        \n",
       "671550332464455680                                                  NaN\n",
       "669684865554620416                                                  NaN\n",
       "668967877119254528                                                  NaN\n",
       "668587383441514497                        https://vine.co/v/ea0OwvPTx9l\n",
       "667070482143944705                                                  NaN\n",
       "Name: expanded_urls, Length: 297, dtype: object"
      ]
     },
     "execution_count": 371,
     "metadata": {},
     "output_type": "execute_result"
    }
   ],
   "source": [
    "# For this we take the missing expanded_urls_add and look for the expanded_urls column\n",
    "df_combined[df_combined['expanded_urls_add'].isna()].expanded_urls"
   ]
  },
  {
   "cell_type": "markdown",
   "metadata": {},
   "source": [
    "There clearly is a data discrepancy between the datasets but there is no obvious pattern why some URL'S are missing in expanded_urls_add. Even a change of gathered URL source doenst change the number of missings.\n",
    "\n",
    "This questions the validity of the combined dataset and further investigation is necessary to see if both datasets can be combined. Therefore, other columns e.g. text is used to identify additional diffrences."
   ]
  },
  {
   "cell_type": "code",
   "execution_count": 372,
   "metadata": {},
   "outputs": [
    {
     "data": {
      "text/plain": [
       "tweet_id\n",
       "888202515573088257    https://twitter.com/dog_rates/status/887473957...\n",
       "886267009285017600                                                  NaN\n",
       "886054160059072513    https://twitter.com/dog_rates/status/886053434...\n",
       "885518971528720385    https://twitter.com/4bonds2carbon/status/88551...\n",
       "884247878851493888    https://twitter.com/kaijohnson_19/status/88396...\n",
       "                                            ...                        \n",
       "671550332464455680                                                  NaN\n",
       "669684865554620416                                                  NaN\n",
       "668967877119254528                                                  NaN\n",
       "668587383441514497                        https://vine.co/v/ea0OwvPTx9l\n",
       "667070482143944705                                                  NaN\n",
       "Name: expanded_urls, Length: 297, dtype: object"
      ]
     },
     "execution_count": 372,
     "metadata": {},
     "output_type": "execute_result"
    }
   ],
   "source": [
    "# Take all observations with missing expanded_urls_add and look at their expanded_urls\n",
    "df_combined[df_combined['expanded_urls_add'].isna()].expanded_urls"
   ]
  },
  {
   "cell_type": "code",
   "execution_count": 377,
   "metadata": {
    "scrolled": true
   },
   "outputs": [
    {
     "data": {
      "text/plain": [
       "25"
      ]
     },
     "execution_count": 377,
     "metadata": {},
     "output_type": "execute_result"
    }
   ],
   "source": [
    "# There is a mismatch in texts for 25 observations\n",
    "(df_combined['text'] != df_combined['text_add']).sum()"
   ]
  },
  {
   "cell_type": "code",
   "execution_count": 375,
   "metadata": {},
   "outputs": [
    {
     "data": {
      "text/plain": [
       "True"
      ]
     },
     "execution_count": 375,
     "metadata": {},
     "output_type": "execute_result"
    }
   ],
   "source": [
    "# In case of any mismatch .min() would evaluate to 0 (False)\n",
    "(df_combined[df_combined['text'] != df_combined['text_add']].index ==  df_errors['id']).min()"
   ]
  },
  {
   "cell_type": "markdown",
   "metadata": {},
   "source": [
    "**Fortunately, the data discrepancy in texts could be explained by the errors. This emphasizes the validity of our combined dataset.**\n",
    "\n",
    "Since, URL's are optional and other columns match perfectly, there is no further analysis on URL discrepancy. Nevertheless, the column expanded_urls_add is necesarry to display images."
   ]
  },
  {
   "cell_type": "markdown",
   "metadata": {},
   "source": [
    "##### III. F.) There are duplicate columns\n",
    "\n",
    "Last but not least duplicate columns, which were used for data quality checks got dropped."
   ]
  },
  {
   "cell_type": "code",
   "execution_count": 378,
   "metadata": {},
   "outputs": [],
   "source": [
    "df_combined.drop(['text_add','source_add','in_reply_to_status_id_add','in_reply_to_user_id_add'], axis=1, inplace=True)"
   ]
  },
  {
   "cell_type": "code",
   "execution_count": 379,
   "metadata": {},
   "outputs": [
    {
     "name": "stdout",
     "output_type": "stream",
     "text": [
      "<class 'pandas.core.frame.DataFrame'>\n",
      "Int64Index: 2356 entries, 892420643555336193 to 666020888022790149\n",
      "Data columns (total 22 columns):\n",
      " #   Column                      Non-Null Count  Dtype              \n",
      "---  ------                      --------------  -----              \n",
      " 0   in_reply_to_status_id       2356 non-null   object             \n",
      " 1   in_reply_to_user_id         2356 non-null   object             \n",
      " 2   timestamp                   2356 non-null   datetime64[ns, UTC]\n",
      " 3   source                      2356 non-null   object             \n",
      " 4   text                        2356 non-null   object             \n",
      " 5   retweeted_status_id         2356 non-null   object             \n",
      " 6   retweeted_status_user_id    2356 non-null   object             \n",
      " 7   retweeted_status_timestamp  181 non-null    datetime64[ns, UTC]\n",
      " 8   expanded_urls               2297 non-null   object             \n",
      " 9   name                        2356 non-null   object             \n",
      " 10  image_width                 2356 non-null   int64              \n",
      " 11  image_height                2356 non-null   int64              \n",
      " 12  expanded_urls_add           2059 non-null   object             \n",
      " 13  user_followers_count        2356 non-null   int64              \n",
      " 14  user_favourites_count       2356 non-null   int64              \n",
      " 15  retweet_count               2356 non-null   int64              \n",
      " 16  favorite_count              2356 non-null   int64              \n",
      " 17  retweeted                   2331 non-null   object             \n",
      " 18  is_quote_status             2331 non-null   object             \n",
      " 19  furry                       2356 non-null   bool               \n",
      " 20  age                         2356 non-null   object             \n",
      " 21  rating                      2356 non-null   float64            \n",
      "dtypes: bool(1), datetime64[ns, UTC](2), float64(1), int64(6), object(12)\n",
      "memory usage: 487.2+ KB\n"
     ]
    }
   ],
   "source": [
    "df_combined.info()"
   ]
  },
  {
   "cell_type": "code",
   "execution_count": 340,
   "metadata": {},
   "outputs": [
    {
     "data": {
      "image/jpeg": "[encoded data removed]",
      "text/plain": [
       "<IPython.core.display.Image object>"
      ]
     },
     "execution_count": 340,
     "metadata": {
      "image/jpeg": {
       "height": 260,
       "width": 260
      }
     },
     "output_type": "execute_result"
    }
   ],
   "source": [
    "random_dog = random.choice(df_combined[df_combined.expanded_urls_add.notnull()].expanded_urls_add.values)\n",
    "Image(url=random_dog, embed=True, width=260, height=260)"
   ]
  },
  {
   "cell_type": "markdown",
   "metadata": {},
   "source": [
    "<a id='eda'></a>\n",
    "## IV. - Explanatory Analysis\n",
    "\n",
    "spaceholder"
   ]
  },
  {
   "cell_type": "code",
   "execution_count": null,
   "metadata": {},
   "outputs": [],
   "source": []
  },
  {
   "cell_type": "code",
   "execution_count": null,
   "metadata": {},
   "outputs": [],
   "source": []
  },
  {
   "cell_type": "code",
   "execution_count": null,
   "metadata": {},
   "outputs": [],
   "source": []
  },
  {
   "cell_type": "markdown",
   "metadata": {},
   "source": [
    "<a id='conclusions'></a>\n",
    "## V. - Conclusions\n",
    "\n",
    "spaceholder"
   ]
  },
  {
   "cell_type": "markdown",
   "metadata": {},
   "source": [
    "<a id='references'></a>\n",
    "## V. - References\n",
    "\n",
    "\n",
    "- [Writing to a JSOn file](https://stackabuse.com/reading-and-writing-json-to-a-file-in-python/)\n",
    "\n",
    "\n",
    "- [Tweepy Error Messages](https://www.programcreek.com/python/example/13279/tweepy.TweepError)\n",
    "\n",
    "\n",
    "- [Flatten Nested JSON files](https://towardsdatascience.com/how-to-flatten-deeply-nested-json-objects-in-non-recursive-elegant-python-55f96533103d)"
   ]
  },
  {
   "cell_type": "markdown",
   "metadata": {},
   "source": [
    "<a id='appendix'></a>\n",
    "## VII. - Appendix"
   ]
  }
 ],
 "metadata": {
  "kernelspec": {
   "display_name": "Python 3",
   "language": "python",
   "name": "python3"
  },
  "language_info": {
   "codemirror_mode": {
    "name": "ipython",
    "version": 3
   },
   "file_extension": ".py",
   "mimetype": "text/x-python",
   "name": "python",
   "nbconvert_exporter": "python",
   "pygments_lexer": "ipython3",
   "version": "3.7.6"
  }
 },
 "nbformat": 4,
 "nbformat_minor": 4
}
